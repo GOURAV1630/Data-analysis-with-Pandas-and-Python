{
 "cells": [
  {
   "cell_type": "markdown",
   "metadata": {},
   "source": [
    "# Working with Dates and Times"
   ]
  },
  {
   "cell_type": "code",
   "execution_count": 1,
   "metadata": {
    "scrolled": true,
    "tags": []
   },
   "outputs": [],
   "source": [
    "import pandas as pd\n",
    "import datetime as dt"
   ]
  },
  {
   "cell_type": "markdown",
   "metadata": {},
   "source": [
    "## Review of Python's datetime Module\n",
    "- The `datetime` module is built into the core Python programming language.\n",
    "- The common alias for the `datetime` module is `dt`.\n",
    "- A module is a Python source file; think of like an internal library that Python loads on demand.\n",
    "- The `datetime` module includes `date` and `datetime` classes for representing dates and datetimes.\n",
    "- The `date` constructor accepts arguments for year, month, and day. Python defaults to 0 for any missing values.\n",
    "- The `datetime` constructor accepts arguments for year, month, day, hour, minute, and second."
   ]
  },
  {
   "cell_type": "code",
   "execution_count": 14,
   "metadata": {
    "tags": []
   },
   "outputs": [
    {
     "data": {
      "text/plain": [
       "2025"
      ]
     },
     "execution_count": 14,
     "metadata": {},
     "output_type": "execute_result"
    }
   ],
   "source": [
    "dt.date(2024 ,12, 15)  #The date constructor accepts arguments for year, month, and day. Python defaults to 0 for any missing values.\n",
    "\n",
    "someday = dt.date(2025 , 12, 15)\n",
    "someday.year"
   ]
  },
  {
   "cell_type": "code",
   "execution_count": 10,
   "metadata": {
    "tags": []
   },
   "outputs": [
    {
     "data": {
      "text/plain": [
       "12"
      ]
     },
     "execution_count": 10,
     "metadata": {},
     "output_type": "execute_result"
    }
   ],
   "source": [
    "someday.month"
   ]
  },
  {
   "cell_type": "code",
   "execution_count": 13,
   "metadata": {
    "tags": []
   },
   "outputs": [
    {
     "data": {
      "text/plain": [
       "15"
      ]
     },
     "execution_count": 13,
     "metadata": {},
     "output_type": "execute_result"
    }
   ],
   "source": [
    "someday.day"
   ]
  },
  {
   "cell_type": "code",
   "execution_count": 16,
   "metadata": {
    "tags": []
   },
   "outputs": [
    {
     "data": {
      "text/plain": [
       "datetime.datetime(2025, 12, 15, 0, 0)"
      ]
     },
     "execution_count": 16,
     "metadata": {},
     "output_type": "execute_result"
    }
   ],
   "source": [
    "dt.datetime(2025 ,12, 15)    #The datetime constructor accepts arguments for year, month, day, hour, minute, and second."
   ]
  },
  {
   "cell_type": "code",
   "execution_count": 18,
   "metadata": {
    "tags": []
   },
   "outputs": [
    {
     "data": {
      "text/plain": [
       "datetime.datetime(2025, 12, 15, 8, 0)"
      ]
     },
     "execution_count": 18,
     "metadata": {},
     "output_type": "execute_result"
    }
   ],
   "source": [
    "dt.datetime(2025 ,12, 15 ,8)   #here it is 8 AM , and 0 mins"
   ]
  },
  {
   "cell_type": "code",
   "execution_count": 20,
   "metadata": {
    "tags": []
   },
   "outputs": [
    {
     "data": {
      "text/plain": [
       "datetime.datetime(2025, 12, 15, 8, 15)"
      ]
     },
     "execution_count": 20,
     "metadata": {},
     "output_type": "execute_result"
    }
   ],
   "source": [
    "dt.datetime(2025 ,12, 15 ,8, 15)  #it is 8 am 15 mins, of dec 15, 2025"
   ]
  },
  {
   "cell_type": "code",
   "execution_count": 21,
   "metadata": {
    "tags": []
   },
   "outputs": [
    {
     "data": {
      "text/plain": [
       "datetime.datetime(2025, 12, 15, 8, 15, 40)"
      ]
     },
     "execution_count": 21,
     "metadata": {},
     "output_type": "execute_result"
    }
   ],
   "source": [
    "dt.datetime(2025 ,12, 15 ,8 ,15, 40) # 8am , 15 min , 40 sec  -   datetime format "
   ]
  },
  {
   "cell_type": "code",
   "execution_count": 32,
   "metadata": {
    "tags": []
   },
   "outputs": [
    {
     "data": {
      "text/plain": [
       "datetime.datetime(2025, 12, 15, 8, 45, 40)"
      ]
     },
     "execution_count": 32,
     "metadata": {},
     "output_type": "execute_result"
    }
   ],
   "source": [
    "sometime = dt.datetime(2025 ,12, 15 ,8 ,45, 40)\n",
    "sometime"
   ]
  },
  {
   "cell_type": "code",
   "execution_count": 34,
   "metadata": {
    "tags": []
   },
   "outputs": [
    {
     "data": {
      "text/plain": [
       "2025"
      ]
     },
     "execution_count": 34,
     "metadata": {},
     "output_type": "execute_result"
    }
   ],
   "source": [
    "sometime.second\n",
    "sometime.minute\n",
    "sometime.day\n",
    "sometime.year"
   ]
  },
  {
   "cell_type": "code",
   "execution_count": 36,
   "metadata": {
    "tags": []
   },
   "outputs": [
    {
     "data": {
      "text/plain": [
       "12"
      ]
     },
     "execution_count": 36,
     "metadata": {},
     "output_type": "execute_result"
    }
   ],
   "source": [
    "sometime.hour\n",
    "sometime.month"
   ]
  },
  {
   "cell_type": "code",
   "execution_count": null,
   "metadata": {},
   "outputs": [],
   "source": []
  },
  {
   "cell_type": "markdown",
   "metadata": {},
   "source": [
    "## The Timestamp and DatetimeIndex Objects\n",
    "\n",
    "- Pandas ships with several classes related to datetimes.\n",
    "- The **Timestamp** is similar to Python's **datetime** object (but with expanded functionality).\n",
    "- A **DatetimeIndex** is an index of **Timestamp** objects.\n",
    "- The **Timestamp** constructor accepts a string, a **datetime** object, or equivalent arguments to the **datetime** clas."
   ]
  },
  {
   "cell_type": "code",
   "execution_count": 4,
   "metadata": {
    "scrolled": true,
    "tags": []
   },
   "outputs": [
    {
     "data": {
      "text/plain": [
       "Timestamp('2024-09-02 00:00:00')"
      ]
     },
     "execution_count": 4,
     "metadata": {},
     "output_type": "execute_result"
    }
   ],
   "source": [
    "pd.Timestamp(2024, 9,2)  #The Timestamp is similar to Python's datetime object (but with expanded functionality)."
   ]
  },
  {
   "cell_type": "code",
   "execution_count": 7,
   "metadata": {},
   "outputs": [
    {
     "data": {
      "text/plain": [
       "Timestamp('2024-09-02 22:41:15')"
      ]
     },
     "execution_count": 7,
     "metadata": {},
     "output_type": "execute_result"
    }
   ],
   "source": [
    "pd.Timestamp(2024, 9,2, 22, 41, 15)  #after day we have , time which is in 224 hr format - time is- 10:41"
   ]
  },
  {
   "cell_type": "code",
   "execution_count": 9,
   "metadata": {},
   "outputs": [
    {
     "data": {
      "text/plain": [
       "Timestamp('2024-09-02 22:41:15')"
      ]
     },
     "execution_count": 9,
     "metadata": {},
     "output_type": "execute_result"
    }
   ],
   "source": [
    "#we can provide date and datetime constructor in Timestamp\n",
    "pd.Timestamp(dt.date(2024 ,9, 2))\n",
    "\n",
    "pd.Timestamp(dt.datetime(2024, 9,2, 22, 41, 15))"
   ]
  },
  {
   "cell_type": "code",
   "execution_count": 11,
   "metadata": {
    "tags": []
   },
   "outputs": [
    {
     "data": {
      "text/plain": [
       "Timestamp('2025-01-01 00:00:00')"
      ]
     },
     "execution_count": 11,
     "metadata": {},
     "output_type": "execute_result"
    }
   ],
   "source": [
    "pd.Timestamp('2025-1-1')\n",
    "pd.Timestamp('2025/1/1')"
   ]
  },
  {
   "cell_type": "code",
   "execution_count": 12,
   "metadata": {
    "tags": []
   },
   "outputs": [
    {
     "data": {
      "text/plain": [
       "Timestamp('2025-01-01 00:00:00')"
      ]
     },
     "execution_count": 12,
     "metadata": {},
     "output_type": "execute_result"
    }
   ],
   "source": [
    "pd.Timestamp('2025/1-1')"
   ]
  },
  {
   "cell_type": "code",
   "execution_count": 13,
   "metadata": {},
   "outputs": [
    {
     "data": {
      "text/plain": [
       "Timestamp('2025-01-01 00:00:00')"
      ]
     },
     "execution_count": 13,
     "metadata": {},
     "output_type": "execute_result"
    }
   ],
   "source": [
    "pd.Timestamp('2025-1/1')"
   ]
  },
  {
   "cell_type": "code",
   "execution_count": 14,
   "metadata": {
    "tags": []
   },
   "outputs": [
    {
     "data": {
      "text/plain": [
       "Timestamp('2025-01-01 08:35:15')"
      ]
     },
     "execution_count": 14,
     "metadata": {},
     "output_type": "execute_result"
    }
   ],
   "source": [
    "pd.Timestamp('2025/1/1 8:35:15')"
   ]
  },
  {
   "cell_type": "code",
   "execution_count": 19,
   "metadata": {
    "tags": []
   },
   "outputs": [
    {
     "data": {
      "text/plain": [
       "0   2024-09-02 08:35:15\n",
       "dtype: datetime64[ns]"
      ]
     },
     "execution_count": 19,
     "metadata": {},
     "output_type": "execute_result"
    }
   ],
   "source": [
    "#to crete a series of datetime\n",
    "pd.Series([pd.Timestamp('2025/1/1')])\n",
    "\n",
    "pd.Series([pd.Timestamp('2024-9-2 8:35:15')])"
   ]
  },
  {
   "cell_type": "code",
   "execution_count": 21,
   "metadata": {
    "tags": []
   },
   "outputs": [
    {
     "data": {
      "text/plain": [
       "0   2024-09-02 08:35:15\n",
       "1   2024-09-02 22:41:15\n",
       "dtype: datetime64[ns]"
      ]
     },
     "execution_count": 21,
     "metadata": {},
     "output_type": "execute_result"
    }
   ],
   "source": [
    "pd.Series([pd.Timestamp('2024-9-2 8:35:15'), dt.datetime(2024, 9,2, 22, 41, 15)])"
   ]
  },
  {
   "cell_type": "code",
   "execution_count": 27,
   "metadata": {
    "tags": []
   },
   "outputs": [
    {
     "data": {
      "text/plain": [
       "Timestamp('2024-09-02 08:35:15')"
      ]
     },
     "execution_count": 27,
     "metadata": {},
     "output_type": "execute_result"
    }
   ],
   "source": [
    "# a series of datetime is going to be fundamentally a series of timestamp , we can see that dtype\n",
    "pd.Series([pd.Timestamp('2024-9-2 8:35:15'), dt.datetime(2024, 9,2, 22, 41, 15)]).iloc[0]\n",
    "\n",
    "pd.Series([pd.Timestamp('2024-9-2 8:35:15'), dt.datetime(2024, 9,2, 22, 41, 15)]).loc[0]"
   ]
  },
  {
   "cell_type": "code",
   "execution_count": 28,
   "metadata": {
    "tags": []
   },
   "outputs": [
    {
     "data": {
      "text/plain": [
       "DatetimeIndex(['2025-01-01', '2025-02-01', '2025-03-01'], dtype='datetime64[ns]', freq=None)"
      ]
     },
     "execution_count": 28,
     "metadata": {},
     "output_type": "execute_result"
    }
   ],
   "source": [
    "pd.DatetimeIndex(['2025-1-1' , '2025-2-1' , '2025-3-1'])"
   ]
  },
  {
   "cell_type": "code",
   "execution_count": 39,
   "metadata": {
    "tags": []
   },
   "outputs": [
    {
     "data": {
      "text/plain": [
       "DatetimeIndex(['2025-10-01', '2025-02-01', '2025-12-01'], dtype='datetime64[ns]', freq=None)"
      ]
     },
     "execution_count": 39,
     "metadata": {},
     "output_type": "execute_result"
    }
   ],
   "source": [
    "#datetimeindex can also take date and datetime constructors as well\n",
    "pd.DatetimeIndex([\n",
    "            dt.date(2025,10,1),\n",
    "            dt.datetime(2025,2,1),\n",
    "            pd.Timestamp(2025,12,1)\n",
    "    ])"
   ]
  },
  {
   "cell_type": "code",
   "execution_count": 50,
   "metadata": {
    "tags": []
   },
   "outputs": [
    {
     "data": {
      "text/plain": [
       "Timestamp('2025-04-01 00:00:00')"
      ]
     },
     "execution_count": 50,
     "metadata": {},
     "output_type": "execute_result"
    }
   ],
   "source": [
    "index = pd.DatetimeIndex([\n",
    "            dt.date(2025,10,1),\n",
    "            dt.date(2025,4,1),\n",
    "            dt.datetime(2025,2,1),\n",
    "            pd.Timestamp(2025,12,1)\n",
    "    ])\n",
    "\n",
    "index\n",
    "#getting access to the 1st value of index variable\n",
    "index[0]\n",
    "\n",
    "#2nd value\n",
    "index[1]\n",
    "\n",
    "#we can see it is pandas timestamp object"
   ]
  },
  {
   "cell_type": "code",
   "execution_count": 51,
   "metadata": {
    "tags": []
   },
   "outputs": [
    {
     "data": {
      "text/plain": [
       "pandas._libs.tslibs.timestamps.Timestamp"
      ]
     },
     "execution_count": 51,
     "metadata": {},
     "output_type": "execute_result"
    }
   ],
   "source": [
    "type(index[0])"
   ]
  },
  {
   "cell_type": "code",
   "execution_count": null,
   "metadata": {},
   "outputs": [],
   "source": []
  },
  {
   "cell_type": "code",
   "execution_count": null,
   "metadata": {},
   "outputs": [],
   "source": []
  },
  {
   "cell_type": "markdown",
   "metadata": {},
   "source": [
    "## Create Range of Dates with pd.date_range Function\n",
    "- The `date_range` function generates and returns a **DatetimeIndex** holding a sequence of dates.\n",
    "- The function requires 2 of the 3 following parameters: `start`, `end`, and `period`.\n",
    "- With `start` and `end`, Pandas will assume a daily period/interval.\n",
    "- Every element within a **DatetimeIndex** is a **Timestamp**."
   ]
  },
  {
   "cell_type": "code",
   "execution_count": 9,
   "metadata": {},
   "outputs": [
    {
     "data": {
      "text/plain": [
       "DatetimeIndex(['2025-01-01', '2025-01-02', '2025-01-03', '2025-01-04',\n",
       "               '2025-01-05', '2025-01-06', '2025-01-07', '2025-01-08',\n",
       "               '2025-01-09', '2025-01-10'],\n",
       "              dtype='datetime64[ns]', freq='D')"
      ]
     },
     "execution_count": 9,
     "metadata": {},
     "output_type": "execute_result"
    }
   ],
   "source": [
    "pd.date_range(start='2025-1-1' , end='2025-1-10')\n",
    "\n",
    "pd.date_range(start='2025-1-1' , end='2025-1-10' ,freq='D') #giving frequency of single day between every dates , 'D'"
   ]
  },
  {
   "cell_type": "code",
   "execution_count": 10,
   "metadata": {},
   "outputs": [
    {
     "data": {
      "text/plain": [
       "DatetimeIndex(['2025-01-01', '2025-01-03', '2025-01-05', '2025-01-07',\n",
       "               '2025-01-09'],\n",
       "              dtype='datetime64[ns]', freq='2D')"
      ]
     },
     "execution_count": 10,
     "metadata": {},
     "output_type": "execute_result"
    }
   ],
   "source": [
    "pd.date_range(start='2025-1-1' , end='2025-1-10' ,freq='2D') #now have date range where values are teo days apart "
   ]
  },
  {
   "cell_type": "code",
   "execution_count": 11,
   "metadata": {},
   "outputs": [
    {
     "data": {
      "text/plain": [
       "DatetimeIndex(['2025-01-01', '2025-01-02', '2025-01-03', '2025-01-06',\n",
       "               '2025-01-07', '2025-01-08', '2025-01-09', '2025-01-10'],\n",
       "              dtype='datetime64[ns]', freq='B')"
      ]
     },
     "execution_count": 11,
     "metadata": {},
     "output_type": "execute_result"
    }
   ],
   "source": [
    "pd.date_range(start='2025-1-1' , end='2025-1-10' , freq='B')  #B for business days - Monday to friday , pandas will return dates which are only business days"
   ]
  },
  {
   "cell_type": "code",
   "execution_count": 28,
   "metadata": {},
   "outputs": [
    {
     "data": {
      "text/plain": [
       "DatetimeIndex(['2025-01-05', '2025-01-12', '2025-01-19', '2025-01-26'], dtype='datetime64[ns]', freq='W-SUN')"
      ]
     },
     "execution_count": 28,
     "metadata": {},
     "output_type": "execute_result"
    }
   ],
   "source": [
    "pd.date_range(start='2025-1-1' , end='2025-1-31' ,freq='W')  # W for week - now have week jump or week frequency , starting from sunday and moving to another week"
   ]
  },
  {
   "cell_type": "code",
   "execution_count": 18,
   "metadata": {
    "tags": []
   },
   "outputs": [
    {
     "data": {
      "text/plain": [
       "DatetimeIndex(['2025-01-03', '2025-01-10', '2025-01-17', '2025-01-24',\n",
       "               '2025-01-31'],\n",
       "              dtype='datetime64[ns]', freq='W-FRI')"
      ]
     },
     "execution_count": 18,
     "metadata": {},
     "output_type": "execute_result"
    }
   ],
   "source": [
    "#now if we dont want to start from sunday on week frequency but want to start from another day , say Friday\n",
    "pd.date_range(start='2025-1-1' , end='2025-1-31' , freq='W-FRI')  #starts from 1t friday and jump on weekly to another friday "
   ]
  },
  {
   "cell_type": "code",
   "execution_count": 23,
   "metadata": {
    "tags": []
   },
   "outputs": [
    {
     "data": {
      "text/plain": [
       "DatetimeIndex(['2025-01-02', '2025-01-09', '2025-01-16', '2025-01-23',\n",
       "               '2025-01-30'],\n",
       "              dtype='datetime64[ns]', freq='W-THU')"
      ]
     },
     "execution_count": 23,
     "metadata": {},
     "output_type": "execute_result"
    }
   ],
   "source": [
    "pd.date_range(start='2025-1-1' , end='2025-1-31' , freq='W-THU')"
   ]
  },
  {
   "cell_type": "code",
   "execution_count": 27,
   "metadata": {
    "tags": []
   },
   "outputs": [
    {
     "data": {
      "text/plain": [
       "DatetimeIndex(['2025-01-01 00:00:00', '2025-01-01 06:00:00',\n",
       "               '2025-01-01 12:00:00', '2025-01-01 18:00:00',\n",
       "               '2025-01-02 00:00:00', '2025-01-02 06:00:00',\n",
       "               '2025-01-02 12:00:00', '2025-01-02 18:00:00',\n",
       "               '2025-01-03 00:00:00', '2025-01-03 06:00:00',\n",
       "               ...\n",
       "               '2025-01-28 18:00:00', '2025-01-29 00:00:00',\n",
       "               '2025-01-29 06:00:00', '2025-01-29 12:00:00',\n",
       "               '2025-01-29 18:00:00', '2025-01-30 00:00:00',\n",
       "               '2025-01-30 06:00:00', '2025-01-30 12:00:00',\n",
       "               '2025-01-30 18:00:00', '2025-01-31 00:00:00'],\n",
       "              dtype='datetime64[ns]', length=121, freq='6H')"
      ]
     },
     "execution_count": 27,
     "metadata": {},
     "output_type": "execute_result"
    }
   ],
   "source": [
    "pd.date_range(start='2025-1-1' , end='2025-1-31' , freq='H')  #  H for hours - we can also jump or inccrement hourly in a range \n",
    "\n",
    "pd.date_range(start='2025-1-1' , end='2025-1-31' , freq='6H') #to progress in frequencies of 6hours at a time "
   ]
  },
  {
   "cell_type": "code",
   "execution_count": 29,
   "metadata": {
    "tags": []
   },
   "outputs": [
    {
     "data": {
      "text/plain": [
       "DatetimeIndex(['2025-01-31', '2025-02-28', '2025-03-31', '2025-04-30',\n",
       "               '2025-05-31', '2025-06-30', '2025-07-31', '2025-08-31',\n",
       "               '2025-09-30', '2025-10-31', '2025-11-30', '2025-12-31'],\n",
       "              dtype='datetime64[ns]', freq='M')"
      ]
     },
     "execution_count": 29,
     "metadata": {},
     "output_type": "execute_result"
    }
   ],
   "source": [
    "pd.date_range(start='2025-1-1' , end='2025-12-31' , freq='M')  #M for months - can also jump ahead in months "
   ]
  },
  {
   "cell_type": "code",
   "execution_count": 30,
   "metadata": {
    "tags": []
   },
   "outputs": [
    {
     "data": {
      "text/plain": [
       "DatetimeIndex(['2025-12-31', '2026-12-31', '2027-12-31', '2028-12-31',\n",
       "               '2029-12-31', '2030-12-31', '2031-12-31', '2032-12-31',\n",
       "               '2033-12-31', '2034-12-31', '2035-12-31', '2036-12-31',\n",
       "               '2037-12-31', '2038-12-31', '2039-12-31', '2040-12-31',\n",
       "               '2041-12-31', '2042-12-31', '2043-12-31', '2044-12-31',\n",
       "               '2045-12-31', '2046-12-31', '2047-12-31', '2048-12-31',\n",
       "               '2049-12-31', '2050-12-31'],\n",
       "              dtype='datetime64[ns]', freq='A-DEC')"
      ]
     },
     "execution_count": 30,
     "metadata": {},
     "output_type": "execute_result"
    }
   ],
   "source": [
    "pd.date_range(start='2025-1-1' , end='2050-12-31' , freq='A') #A for annualy - we can also jumo in anually , getting end month of every year"
   ]
  },
  {
   "cell_type": "code",
   "execution_count": 32,
   "metadata": {
    "tags": []
   },
   "outputs": [
    {
     "data": {
      "text/plain": [
       "DatetimeIndex(['2024-09-01', '2024-09-02', '2024-09-03', '2024-09-04',\n",
       "               '2024-09-05', '2024-09-06', '2024-09-07', '2024-09-08',\n",
       "               '2024-09-09', '2024-09-10', '2024-09-11', '2024-09-12',\n",
       "               '2024-09-13', '2024-09-14', '2024-09-15', '2024-09-16',\n",
       "               '2024-09-17', '2024-09-18', '2024-09-19', '2024-09-20',\n",
       "               '2024-09-21', '2024-09-22', '2024-09-23', '2024-09-24',\n",
       "               '2024-09-25'],\n",
       "              dtype='datetime64[ns]', freq='D')"
      ]
     },
     "execution_count": 32,
     "metadata": {},
     "output_type": "execute_result"
    }
   ],
   "source": [
    "pd.date_range(start= '2024 -9 -1' , freq='D' , periods=25)  #starting from 1st of Sept , give 25 days , on frequency of one Day at a time"
   ]
  },
  {
   "cell_type": "code",
   "execution_count": 35,
   "metadata": {
    "tags": []
   },
   "outputs": [
    {
     "data": {
      "text/plain": [
       "DatetimeIndex(['2024-08-08', '2024-08-09', '2024-08-10', '2024-08-11',\n",
       "               '2024-08-12', '2024-08-13', '2024-08-14', '2024-08-15',\n",
       "               '2024-08-16', '2024-08-17', '2024-08-18', '2024-08-19',\n",
       "               '2024-08-20', '2024-08-21', '2024-08-22', '2024-08-23',\n",
       "               '2024-08-24', '2024-08-25', '2024-08-26', '2024-08-27',\n",
       "               '2024-08-28', '2024-08-29', '2024-08-30', '2024-08-31',\n",
       "               '2024-09-01'],\n",
       "              dtype='datetime64[ns]', freq='D')"
      ]
     },
     "execution_count": 35,
     "metadata": {},
     "output_type": "execute_result"
    }
   ],
   "source": [
    "# moving bavvkwards\n",
    "pd.date_range(end= '2024 -9 -1' , freq='D' , periods=25) #starting from '2024 -9 -1' , progressing backwards with one day at a time give 25 days , \n",
    "\n",
    "#our date time index is going to end at '2024 -9 -1' , going back to as many days as needed , 25 days , at a frequency of one day at a time"
   ]
  },
  {
   "cell_type": "code",
   "execution_count": null,
   "metadata": {},
   "outputs": [],
   "source": []
  },
  {
   "cell_type": "code",
   "execution_count": null,
   "metadata": {},
   "outputs": [],
   "source": []
  },
  {
   "cell_type": "markdown",
   "metadata": {},
   "source": [
    "## The dt Attribute\n",
    "- The `dt` attribute reveals a `DatetimeProperties` object with attributes/methods for working with datetimes. It is similar to the `str` attribute for string methods.\n",
    "- The `DatetimeProperties` object has attributes like `day`, `month`, and `year` to reveal information about each date in the **Series**.\n",
    "- The `day_name` method returns the written day of the week.\n",
    "- Attributes like `is_month_end` and `is_quarter_start` return Boolean **Series**."
   ]
  },
  {
   "cell_type": "code",
   "execution_count": 5,
   "metadata": {},
   "outputs": [],
   "source": [
    "pd.date_range(start='2000-1-1' ,end='2020-12-31' , freq='24d 3h') #our values of dates are progressing with frequency of 24Days and 3 hrs\n",
    "\n",
    "bunch_of_dates = pd.Series(pd.date_range(start='2000-1-1' ,end='2020-12-31' , freq='24d 3h'))"
   ]
  },
  {
   "cell_type": "code",
   "execution_count": 8,
   "metadata": {},
   "outputs": [
    {
     "data": {
      "text/plain": [
       "<pandas.core.indexes.accessors.DatetimeProperties object at 0x000001B7A03216D0>"
      ]
     },
     "execution_count": 8,
     "metadata": {},
     "output_type": "execute_result"
    }
   ],
   "source": [
    "bunch_of_dates.dt  #this tells us that it is datetimeproperties object"
   ]
  },
  {
   "cell_type": "code",
   "execution_count": 9,
   "metadata": {},
   "outputs": [
    {
     "data": {
      "text/plain": [
       "0   2000-01-01 00:00:00\n",
       "1   2000-01-25 03:00:00\n",
       "2   2000-02-18 06:00:00\n",
       "3   2000-03-13 09:00:00\n",
       "4   2000-04-06 12:00:00\n",
       "dtype: datetime64[ns]"
      ]
     },
     "execution_count": 9,
     "metadata": {},
     "output_type": "execute_result"
    }
   ],
   "source": [
    "bunch_of_dates.head()"
   ]
  },
  {
   "cell_type": "code",
   "execution_count": 19,
   "metadata": {},
   "outputs": [
    {
     "data": {
      "text/plain": [
       "0       0\n",
       "1       3\n",
       "2       6\n",
       "3       9\n",
       "4      12\n",
       "       ..\n",
       "313     3\n",
       "314     6\n",
       "315     9\n",
       "316    12\n",
       "317    15\n",
       "Length: 318, dtype: int32"
      ]
     },
     "execution_count": 19,
     "metadata": {},
     "output_type": "execute_result"
    }
   ],
   "source": [
    "bunch_of_dates.dt.day  #getting every date value\n",
    "bunch_of_dates.dt.month\n",
    "bunch_of_dates.dt.year\n",
    "bunch_of_dates.dt.time\n",
    "bunch_of_dates.dt.hour"
   ]
  },
  {
   "cell_type": "code",
   "execution_count": 21,
   "metadata": {},
   "outputs": [
    {
     "data": {
      "text/plain": [
       "0        1\n",
       "1       25\n",
       "2       49\n",
       "3       73\n",
       "4       97\n",
       "      ... \n",
       "313    247\n",
       "314    271\n",
       "315    295\n",
       "316    319\n",
       "317    343\n",
       "Length: 318, dtype: int32"
      ]
     },
     "execution_count": 21,
     "metadata": {},
     "output_type": "execute_result"
    }
   ],
   "source": [
    "bunch_of_dates.dt.day_of_year"
   ]
  },
  {
   "cell_type": "code",
   "execution_count": 23,
   "metadata": {},
   "outputs": [
    {
     "data": {
      "text/plain": [
       "0       Saturday\n",
       "1        Tuesday\n",
       "2         Friday\n",
       "3         Monday\n",
       "4       Thursday\n",
       "         ...    \n",
       "313     Thursday\n",
       "314       Sunday\n",
       "315    Wednesday\n",
       "316     Saturday\n",
       "317      Tuesday\n",
       "Length: 318, dtype: object"
      ]
     },
     "execution_count": 23,
     "metadata": {},
     "output_type": "execute_result"
    }
   ],
   "source": [
    "bunch_of_dates.dt.day_name()"
   ]
  },
  {
   "cell_type": "code",
   "execution_count": 29,
   "metadata": {},
   "outputs": [
    {
     "data": {
      "text/plain": [
       "0      False\n",
       "1      False\n",
       "2      False\n",
       "3      False\n",
       "4      False\n",
       "       ...  \n",
       "313    False\n",
       "314    False\n",
       "315    False\n",
       "316    False\n",
       "317    False\n",
       "Length: 318, dtype: bool"
      ]
     },
     "execution_count": 29,
     "metadata": {},
     "output_type": "execute_result"
    }
   ],
   "source": [
    "bunch_of_dates.dt.is_month_end #returns a boolean series, whether the given day falls on the last day of month "
   ]
  },
  {
   "cell_type": "code",
   "execution_count": 27,
   "metadata": {},
   "outputs": [
    {
     "data": {
      "text/plain": [
       "0       True\n",
       "1      False\n",
       "2      False\n",
       "3      False\n",
       "4      False\n",
       "       ...  \n",
       "313    False\n",
       "314    False\n",
       "315    False\n",
       "316    False\n",
       "317    False\n",
       "Length: 318, dtype: bool"
      ]
     },
     "execution_count": 27,
     "metadata": {},
     "output_type": "execute_result"
    }
   ],
   "source": [
    "bunch_of_dates.dt.is_month_start # Returns true if the day falls on the first day of the month"
   ]
  },
  {
   "cell_type": "code",
   "execution_count": 33,
   "metadata": {},
   "outputs": [
    {
     "data": {
      "text/plain": [
       "0     2000-01-01 00:00:00\n",
       "106   2007-01-01 06:00:00\n",
       "212   2014-01-01 12:00:00\n",
       "299   2019-10-01 09:00:00\n",
       "dtype: datetime64[ns]"
      ]
     },
     "execution_count": 33,
     "metadata": {},
     "output_type": "execute_result"
    }
   ],
   "source": [
    "bunch_of_dates.dt.is_quarter_start  #day falls on the start of the quarter \n",
    "bunch_of_dates[bunch_of_dates.dt.is_quarter_start]"
   ]
  },
  {
   "cell_type": "code",
   "execution_count": null,
   "metadata": {},
   "outputs": [],
   "source": []
  },
  {
   "cell_type": "code",
   "execution_count": null,
   "metadata": {},
   "outputs": [],
   "source": []
  },
  {
   "cell_type": "markdown",
   "metadata": {},
   "source": [
    "## Selecting Rows from a DataFrame with a DateTimeIndex\n",
    "- The `iloc` accessor is available for index position-based extraction.\n",
    "- The `loc` accessor accepts strings or **Timestamps** to extract by index label/value. Note that Python's `datetime` objects will not work.\n",
    "- Use list slicing to extract a sequence of dates. The `truncate` method is another alternative."
   ]
  },
  {
   "cell_type": "code",
   "execution_count": 13,
   "metadata": {},
   "outputs": [
    {
     "data": {
      "text/html": [
       "<div>\n",
       "<style scoped>\n",
       "    .dataframe tbody tr th:only-of-type {\n",
       "        vertical-align: middle;\n",
       "    }\n",
       "\n",
       "    .dataframe tbody tr th {\n",
       "        vertical-align: top;\n",
       "    }\n",
       "\n",
       "    .dataframe thead th {\n",
       "        text-align: right;\n",
       "    }\n",
       "</style>\n",
       "<table border=\"1\" class=\"dataframe\">\n",
       "  <thead>\n",
       "    <tr style=\"text-align: right;\">\n",
       "      <th></th>\n",
       "      <th>Open</th>\n",
       "      <th>High</th>\n",
       "      <th>Low</th>\n",
       "      <th>Close</th>\n",
       "      <th>Volume</th>\n",
       "    </tr>\n",
       "    <tr>\n",
       "      <th>Date</th>\n",
       "      <th></th>\n",
       "      <th></th>\n",
       "      <th></th>\n",
       "      <th></th>\n",
       "      <th></th>\n",
       "    </tr>\n",
       "  </thead>\n",
       "  <tbody>\n",
       "    <tr>\n",
       "      <th>1962-01-02</th>\n",
       "      <td>5.04610</td>\n",
       "      <td>5.04610</td>\n",
       "      <td>4.98716</td>\n",
       "      <td>4.98716</td>\n",
       "      <td>593562.955237</td>\n",
       "    </tr>\n",
       "    <tr>\n",
       "      <th>1962-01-03</th>\n",
       "      <td>4.98716</td>\n",
       "      <td>5.03292</td>\n",
       "      <td>4.98716</td>\n",
       "      <td>5.03292</td>\n",
       "      <td>445175.034277</td>\n",
       "    </tr>\n",
       "    <tr>\n",
       "      <th>1962-01-04</th>\n",
       "      <td>5.03292</td>\n",
       "      <td>5.03292</td>\n",
       "      <td>4.98052</td>\n",
       "      <td>4.98052</td>\n",
       "      <td>399513.586679</td>\n",
       "    </tr>\n",
       "    <tr>\n",
       "      <th>1962-01-05</th>\n",
       "      <td>4.97389</td>\n",
       "      <td>4.97389</td>\n",
       "      <td>4.87511</td>\n",
       "      <td>4.88166</td>\n",
       "      <td>559321.480565</td>\n",
       "    </tr>\n",
       "    <tr>\n",
       "      <th>1962-01-08</th>\n",
       "      <td>4.88166</td>\n",
       "      <td>4.88166</td>\n",
       "      <td>4.75059</td>\n",
       "      <td>4.78972</td>\n",
       "      <td>833273.771393</td>\n",
       "    </tr>\n",
       "  </tbody>\n",
       "</table>\n",
       "</div>"
      ],
      "text/plain": [
       "               Open     High      Low    Close         Volume\n",
       "Date                                                         \n",
       "1962-01-02  5.04610  5.04610  4.98716  4.98716  593562.955237\n",
       "1962-01-03  4.98716  5.03292  4.98716  5.03292  445175.034277\n",
       "1962-01-04  5.03292  5.03292  4.98052  4.98052  399513.586679\n",
       "1962-01-05  4.97389  4.97389  4.87511  4.88166  559321.480565\n",
       "1962-01-08  4.88166  4.88166  4.75059  4.78972  833273.771393"
      ]
     },
     "execution_count": 13,
     "metadata": {},
     "output_type": "execute_result"
    }
   ],
   "source": [
    "pd.read_csv('ibm.csv', parse_dates=['Date'])\n",
    "\n",
    "stocks = pd.read_csv('ibm.csv', parse_dates=['Date'], index_col='Date').sort_index()\n",
    "stocks.head()"
   ]
  },
  {
   "cell_type": "code",
   "execution_count": 17,
   "metadata": {},
   "outputs": [
    {
     "data": {
      "text/plain": [
       "Open      1.288700e+02\n",
       "High      1.298270e+02\n",
       "Low       1.288020e+02\n",
       "Close     1.293290e+02\n",
       "Volume    6.825202e+06\n",
       "Name: 2014-03-04 00:00:00, dtype: float64"
      ]
     },
     "execution_count": 17,
     "metadata": {},
     "output_type": "execute_result"
    }
   ],
   "source": [
    "stocks.iloc[300]\n",
    "stocks.loc['2014-3-4']"
   ]
  },
  {
   "cell_type": "code",
   "execution_count": 18,
   "metadata": {},
   "outputs": [
    {
     "data": {
      "text/plain": [
       "Open      1.288700e+02\n",
       "High      1.298270e+02\n",
       "Low       1.288020e+02\n",
       "Close     1.293290e+02\n",
       "Volume    6.825202e+06\n",
       "Name: 2014-03-04 00:00:00, dtype: float64"
      ]
     },
     "execution_count": 18,
     "metadata": {},
     "output_type": "execute_result"
    }
   ],
   "source": [
    "stocks.loc[pd.Timestamp(2014,3,4)]"
   ]
  },
  {
   "cell_type": "code",
   "execution_count": 21,
   "metadata": {},
   "outputs": [
    {
     "data": {
      "text/html": [
       "<div>\n",
       "<style scoped>\n",
       "    .dataframe tbody tr th:only-of-type {\n",
       "        vertical-align: middle;\n",
       "    }\n",
       "\n",
       "    .dataframe tbody tr th {\n",
       "        vertical-align: top;\n",
       "    }\n",
       "\n",
       "    .dataframe thead th {\n",
       "        text-align: right;\n",
       "    }\n",
       "</style>\n",
       "<table border=\"1\" class=\"dataframe\">\n",
       "  <thead>\n",
       "    <tr style=\"text-align: right;\">\n",
       "      <th></th>\n",
       "      <th>Open</th>\n",
       "      <th>High</th>\n",
       "      <th>Low</th>\n",
       "      <th>Close</th>\n",
       "      <th>Volume</th>\n",
       "    </tr>\n",
       "    <tr>\n",
       "      <th>Date</th>\n",
       "      <th></th>\n",
       "      <th></th>\n",
       "      <th></th>\n",
       "      <th></th>\n",
       "      <th></th>\n",
       "    </tr>\n",
       "  </thead>\n",
       "  <tbody>\n",
       "    <tr>\n",
       "      <th>2014-03-04</th>\n",
       "      <td>128.870</td>\n",
       "      <td>129.827</td>\n",
       "      <td>128.802</td>\n",
       "      <td>129.329</td>\n",
       "      <td>6.825202e+06</td>\n",
       "    </tr>\n",
       "    <tr>\n",
       "      <th>2014-03-05</th>\n",
       "      <td>129.407</td>\n",
       "      <td>130.344</td>\n",
       "      <td>129.319</td>\n",
       "      <td>129.807</td>\n",
       "      <td>5.027617e+06</td>\n",
       "    </tr>\n",
       "    <tr>\n",
       "      <th>2014-03-06</th>\n",
       "      <td>129.963</td>\n",
       "      <td>130.676</td>\n",
       "      <td>129.631</td>\n",
       "      <td>130.159</td>\n",
       "      <td>5.503611e+06</td>\n",
       "    </tr>\n",
       "    <tr>\n",
       "      <th>2014-03-07</th>\n",
       "      <td>130.676</td>\n",
       "      <td>131.047</td>\n",
       "      <td>129.837</td>\n",
       "      <td>130.198</td>\n",
       "      <td>5.936539e+06</td>\n",
       "    </tr>\n",
       "    <tr>\n",
       "      <th>2014-03-10</th>\n",
       "      <td>130.090</td>\n",
       "      <td>130.666</td>\n",
       "      <td>128.890</td>\n",
       "      <td>129.309</td>\n",
       "      <td>6.623102e+06</td>\n",
       "    </tr>\n",
       "    <tr>\n",
       "      <th>...</th>\n",
       "      <td>...</td>\n",
       "      <td>...</td>\n",
       "      <td>...</td>\n",
       "      <td>...</td>\n",
       "      <td>...</td>\n",
       "    </tr>\n",
       "    <tr>\n",
       "      <th>2014-12-24</th>\n",
       "      <td>115.119</td>\n",
       "      <td>115.188</td>\n",
       "      <td>114.183</td>\n",
       "      <td>114.359</td>\n",
       "      <td>2.646416e+06</td>\n",
       "    </tr>\n",
       "    <tr>\n",
       "      <th>2014-12-26</th>\n",
       "      <td>114.651</td>\n",
       "      <td>115.257</td>\n",
       "      <td>114.495</td>\n",
       "      <td>114.700</td>\n",
       "      <td>2.706324e+06</td>\n",
       "    </tr>\n",
       "    <tr>\n",
       "      <th>2014-12-29</th>\n",
       "      <td>114.485</td>\n",
       "      <td>114.700</td>\n",
       "      <td>112.661</td>\n",
       "      <td>113.412</td>\n",
       "      <td>4.715249e+06</td>\n",
       "    </tr>\n",
       "    <tr>\n",
       "      <th>2014-12-30</th>\n",
       "      <td>113.090</td>\n",
       "      <td>113.656</td>\n",
       "      <td>112.934</td>\n",
       "      <td>113.109</td>\n",
       "      <td>4.004903e+06</td>\n",
       "    </tr>\n",
       "    <tr>\n",
       "      <th>2014-12-31</th>\n",
       "      <td>113.324</td>\n",
       "      <td>114.105</td>\n",
       "      <td>113.304</td>\n",
       "      <td>113.354</td>\n",
       "      <td>5.677519e+06</td>\n",
       "    </tr>\n",
       "  </tbody>\n",
       "</table>\n",
       "<p>211 rows × 5 columns</p>\n",
       "</div>"
      ],
      "text/plain": [
       "               Open     High      Low    Close        Volume\n",
       "Date                                                        \n",
       "2014-03-04  128.870  129.827  128.802  129.329  6.825202e+06\n",
       "2014-03-05  129.407  130.344  129.319  129.807  5.027617e+06\n",
       "2014-03-06  129.963  130.676  129.631  130.159  5.503611e+06\n",
       "2014-03-07  130.676  131.047  129.837  130.198  5.936539e+06\n",
       "2014-03-10  130.090  130.666  128.890  129.309  6.623102e+06\n",
       "...             ...      ...      ...      ...           ...\n",
       "2014-12-24  115.119  115.188  114.183  114.359  2.646416e+06\n",
       "2014-12-26  114.651  115.257  114.495  114.700  2.706324e+06\n",
       "2014-12-29  114.485  114.700  112.661  113.412  4.715249e+06\n",
       "2014-12-30  113.090  113.656  112.934  113.109  4.004903e+06\n",
       "2014-12-31  113.324  114.105  113.304  113.354  5.677519e+06\n",
       "\n",
       "[211 rows x 5 columns]"
      ]
     },
     "execution_count": 21,
     "metadata": {},
     "output_type": "execute_result"
    }
   ],
   "source": [
    "#to do slicing, pulling from point to another, \n",
    "stocks.loc['2014-3-4' : '2014-12-31']\n",
    "\n",
    "#same thing with timestamp\n",
    "stocks.loc[pd.Timestamp(2014,3,4) : pd.Timestamp(2014,12,31)]"
   ]
  },
  {
   "cell_type": "code",
   "execution_count": 24,
   "metadata": {
    "tags": []
   },
   "outputs": [
    {
     "data": {
      "text/html": [
       "<div>\n",
       "<style scoped>\n",
       "    .dataframe tbody tr th:only-of-type {\n",
       "        vertical-align: middle;\n",
       "    }\n",
       "\n",
       "    .dataframe tbody tr th {\n",
       "        vertical-align: top;\n",
       "    }\n",
       "\n",
       "    .dataframe thead th {\n",
       "        text-align: right;\n",
       "    }\n",
       "</style>\n",
       "<table border=\"1\" class=\"dataframe\">\n",
       "  <thead>\n",
       "    <tr style=\"text-align: right;\">\n",
       "      <th></th>\n",
       "      <th>Open</th>\n",
       "      <th>High</th>\n",
       "      <th>Low</th>\n",
       "      <th>Close</th>\n",
       "      <th>Volume</th>\n",
       "    </tr>\n",
       "    <tr>\n",
       "      <th>Date</th>\n",
       "      <th></th>\n",
       "      <th></th>\n",
       "      <th></th>\n",
       "      <th></th>\n",
       "      <th></th>\n",
       "    </tr>\n",
       "  </thead>\n",
       "  <tbody>\n",
       "    <tr>\n",
       "      <th>2014-03-04</th>\n",
       "      <td>128.870</td>\n",
       "      <td>129.827</td>\n",
       "      <td>128.802</td>\n",
       "      <td>129.329</td>\n",
       "      <td>6.825202e+06</td>\n",
       "    </tr>\n",
       "    <tr>\n",
       "      <th>2014-03-05</th>\n",
       "      <td>129.407</td>\n",
       "      <td>130.344</td>\n",
       "      <td>129.319</td>\n",
       "      <td>129.807</td>\n",
       "      <td>5.027617e+06</td>\n",
       "    </tr>\n",
       "    <tr>\n",
       "      <th>2014-03-06</th>\n",
       "      <td>129.963</td>\n",
       "      <td>130.676</td>\n",
       "      <td>129.631</td>\n",
       "      <td>130.159</td>\n",
       "      <td>5.503611e+06</td>\n",
       "    </tr>\n",
       "    <tr>\n",
       "      <th>2014-03-07</th>\n",
       "      <td>130.676</td>\n",
       "      <td>131.047</td>\n",
       "      <td>129.837</td>\n",
       "      <td>130.198</td>\n",
       "      <td>5.936539e+06</td>\n",
       "    </tr>\n",
       "    <tr>\n",
       "      <th>2014-03-10</th>\n",
       "      <td>130.090</td>\n",
       "      <td>130.666</td>\n",
       "      <td>128.890</td>\n",
       "      <td>129.309</td>\n",
       "      <td>6.623102e+06</td>\n",
       "    </tr>\n",
       "    <tr>\n",
       "      <th>...</th>\n",
       "      <td>...</td>\n",
       "      <td>...</td>\n",
       "      <td>...</td>\n",
       "      <td>...</td>\n",
       "      <td>...</td>\n",
       "    </tr>\n",
       "    <tr>\n",
       "      <th>2014-12-24</th>\n",
       "      <td>115.119</td>\n",
       "      <td>115.188</td>\n",
       "      <td>114.183</td>\n",
       "      <td>114.359</td>\n",
       "      <td>2.646416e+06</td>\n",
       "    </tr>\n",
       "    <tr>\n",
       "      <th>2014-12-26</th>\n",
       "      <td>114.651</td>\n",
       "      <td>115.257</td>\n",
       "      <td>114.495</td>\n",
       "      <td>114.700</td>\n",
       "      <td>2.706324e+06</td>\n",
       "    </tr>\n",
       "    <tr>\n",
       "      <th>2014-12-29</th>\n",
       "      <td>114.485</td>\n",
       "      <td>114.700</td>\n",
       "      <td>112.661</td>\n",
       "      <td>113.412</td>\n",
       "      <td>4.715249e+06</td>\n",
       "    </tr>\n",
       "    <tr>\n",
       "      <th>2014-12-30</th>\n",
       "      <td>113.090</td>\n",
       "      <td>113.656</td>\n",
       "      <td>112.934</td>\n",
       "      <td>113.109</td>\n",
       "      <td>4.004903e+06</td>\n",
       "    </tr>\n",
       "    <tr>\n",
       "      <th>2014-12-31</th>\n",
       "      <td>113.324</td>\n",
       "      <td>114.105</td>\n",
       "      <td>113.304</td>\n",
       "      <td>113.354</td>\n",
       "      <td>5.677519e+06</td>\n",
       "    </tr>\n",
       "  </tbody>\n",
       "</table>\n",
       "<p>211 rows × 5 columns</p>\n",
       "</div>"
      ],
      "text/plain": [
       "               Open     High      Low    Close        Volume\n",
       "Date                                                        \n",
       "2014-03-04  128.870  129.827  128.802  129.329  6.825202e+06\n",
       "2014-03-05  129.407  130.344  129.319  129.807  5.027617e+06\n",
       "2014-03-06  129.963  130.676  129.631  130.159  5.503611e+06\n",
       "2014-03-07  130.676  131.047  129.837  130.198  5.936539e+06\n",
       "2014-03-10  130.090  130.666  128.890  129.309  6.623102e+06\n",
       "...             ...      ...      ...      ...           ...\n",
       "2014-12-24  115.119  115.188  114.183  114.359  2.646416e+06\n",
       "2014-12-26  114.651  115.257  114.495  114.700  2.706324e+06\n",
       "2014-12-29  114.485  114.700  112.661  113.412  4.715249e+06\n",
       "2014-12-30  113.090  113.656  112.934  113.109  4.004903e+06\n",
       "2014-12-31  113.324  114.105  113.304  113.354  5.677519e+06\n",
       "\n",
       "[211 rows x 5 columns]"
      ]
     },
     "execution_count": 24,
     "metadata": {},
     "output_type": "execute_result"
    }
   ],
   "source": [
    "#another way to pull out slicing using Truncate , incTruncate we dont use colon ':' in between , we use comma ','\n",
    "stocks.truncate('2014-3-4' , '2014-12-31')"
   ]
  },
  {
   "cell_type": "code",
   "execution_count": 33,
   "metadata": {
    "tags": []
   },
   "outputs": [
    {
     "data": {
      "text/plain": [
       "High     129.827\n",
       "Low      128.802\n",
       "Close    129.329\n",
       "Name: 2014-03-04 00:00:00, dtype: float64"
      ]
     },
     "execution_count": 33,
     "metadata": {},
     "output_type": "execute_result"
    }
   ],
   "source": [
    "#if we want to extract specific value using columns , \n",
    "stocks.loc['2014-3-4' , 'Close']\n",
    "\n",
    "#using multiple cols\n",
    "stocks.loc['2014-3-4' , 'Low':'High']  # remember to proovide columns name in order as in Dataframes ,\n",
    "\n",
    "stocks.loc['2014-3-4' , 'Open' :'Volume']\n",
    "\n",
    "stocks.loc['2014-3-4' , 'High':'Close']"
   ]
  },
  {
   "cell_type": "code",
   "execution_count": 36,
   "metadata": {
    "tags": []
   },
   "outputs": [
    {
     "data": {
      "text/html": [
       "<div>\n",
       "<style scoped>\n",
       "    .dataframe tbody tr th:only-of-type {\n",
       "        vertical-align: middle;\n",
       "    }\n",
       "\n",
       "    .dataframe tbody tr th {\n",
       "        vertical-align: top;\n",
       "    }\n",
       "\n",
       "    .dataframe thead th {\n",
       "        text-align: right;\n",
       "    }\n",
       "</style>\n",
       "<table border=\"1\" class=\"dataframe\">\n",
       "  <thead>\n",
       "    <tr style=\"text-align: right;\">\n",
       "      <th></th>\n",
       "      <th>High</th>\n",
       "      <th>Low</th>\n",
       "      <th>Close</th>\n",
       "    </tr>\n",
       "    <tr>\n",
       "      <th>Date</th>\n",
       "      <th></th>\n",
       "      <th></th>\n",
       "      <th></th>\n",
       "    </tr>\n",
       "  </thead>\n",
       "  <tbody>\n",
       "    <tr>\n",
       "      <th>2014-03-04</th>\n",
       "      <td>129.827</td>\n",
       "      <td>128.802</td>\n",
       "      <td>129.329</td>\n",
       "    </tr>\n",
       "    <tr>\n",
       "      <th>2014-03-05</th>\n",
       "      <td>130.344</td>\n",
       "      <td>129.319</td>\n",
       "      <td>129.807</td>\n",
       "    </tr>\n",
       "    <tr>\n",
       "      <th>2014-03-06</th>\n",
       "      <td>130.676</td>\n",
       "      <td>129.631</td>\n",
       "      <td>130.159</td>\n",
       "    </tr>\n",
       "    <tr>\n",
       "      <th>2014-03-07</th>\n",
       "      <td>131.047</td>\n",
       "      <td>129.837</td>\n",
       "      <td>130.198</td>\n",
       "    </tr>\n",
       "    <tr>\n",
       "      <th>2014-03-10</th>\n",
       "      <td>130.666</td>\n",
       "      <td>128.890</td>\n",
       "      <td>129.309</td>\n",
       "    </tr>\n",
       "    <tr>\n",
       "      <th>...</th>\n",
       "      <td>...</td>\n",
       "      <td>...</td>\n",
       "      <td>...</td>\n",
       "    </tr>\n",
       "    <tr>\n",
       "      <th>2014-12-24</th>\n",
       "      <td>115.188</td>\n",
       "      <td>114.183</td>\n",
       "      <td>114.359</td>\n",
       "    </tr>\n",
       "    <tr>\n",
       "      <th>2014-12-26</th>\n",
       "      <td>115.257</td>\n",
       "      <td>114.495</td>\n",
       "      <td>114.700</td>\n",
       "    </tr>\n",
       "    <tr>\n",
       "      <th>2014-12-29</th>\n",
       "      <td>114.700</td>\n",
       "      <td>112.661</td>\n",
       "      <td>113.412</td>\n",
       "    </tr>\n",
       "    <tr>\n",
       "      <th>2014-12-30</th>\n",
       "      <td>113.656</td>\n",
       "      <td>112.934</td>\n",
       "      <td>113.109</td>\n",
       "    </tr>\n",
       "    <tr>\n",
       "      <th>2014-12-31</th>\n",
       "      <td>114.105</td>\n",
       "      <td>113.304</td>\n",
       "      <td>113.354</td>\n",
       "    </tr>\n",
       "  </tbody>\n",
       "</table>\n",
       "<p>211 rows × 3 columns</p>\n",
       "</div>"
      ],
      "text/plain": [
       "               High      Low    Close\n",
       "Date                                 \n",
       "2014-03-04  129.827  128.802  129.329\n",
       "2014-03-05  130.344  129.319  129.807\n",
       "2014-03-06  130.676  129.631  130.159\n",
       "2014-03-07  131.047  129.837  130.198\n",
       "2014-03-10  130.666  128.890  129.309\n",
       "...             ...      ...      ...\n",
       "2014-12-24  115.188  114.183  114.359\n",
       "2014-12-26  115.257  114.495  114.700\n",
       "2014-12-29  114.700  112.661  113.412\n",
       "2014-12-30  113.656  112.934  113.109\n",
       "2014-12-31  114.105  113.304  113.354\n",
       "\n",
       "[211 rows x 3 columns]"
      ]
     },
     "execution_count": 36,
     "metadata": {},
     "output_type": "execute_result"
    }
   ],
   "source": [
    "stocks.loc['2014-3-4':'2014-12-31' , 'High':'Close']\n",
    "\n",
    "stocks.loc[pd.Timestamp(2014,3,4) : pd.Timestamp(2014,12,31) , 'High':'Close']"
   ]
  },
  {
   "cell_type": "code",
   "execution_count": null,
   "metadata": {},
   "outputs": [],
   "source": []
  },
  {
   "cell_type": "markdown",
   "metadata": {},
   "source": [
    "## The DateOffset Object\n",
    "- A **DateOffset** object adds time to a **Timestamp** to arrive at a new **Timestamp**.\n",
    "- The **DateOffset** constructor accepts `days`, `weeks`, `months`, `years` parameters, and more.\n",
    "- We can pass a **DateOffset** object to the `freq` parameter of the `pd.date_range` function."
   ]
  },
  {
   "cell_type": "code",
   "execution_count": 3,
   "metadata": {},
   "outputs": [
    {
     "data": {
      "text/html": [
       "<div>\n",
       "<style scoped>\n",
       "    .dataframe tbody tr th:only-of-type {\n",
       "        vertical-align: middle;\n",
       "    }\n",
       "\n",
       "    .dataframe tbody tr th {\n",
       "        vertical-align: top;\n",
       "    }\n",
       "\n",
       "    .dataframe thead th {\n",
       "        text-align: right;\n",
       "    }\n",
       "</style>\n",
       "<table border=\"1\" class=\"dataframe\">\n",
       "  <thead>\n",
       "    <tr style=\"text-align: right;\">\n",
       "      <th></th>\n",
       "      <th>Open</th>\n",
       "      <th>High</th>\n",
       "      <th>Low</th>\n",
       "      <th>Close</th>\n",
       "      <th>Volume</th>\n",
       "    </tr>\n",
       "    <tr>\n",
       "      <th>Date</th>\n",
       "      <th></th>\n",
       "      <th></th>\n",
       "      <th></th>\n",
       "      <th></th>\n",
       "      <th></th>\n",
       "    </tr>\n",
       "  </thead>\n",
       "  <tbody>\n",
       "    <tr>\n",
       "      <th>1962-01-02</th>\n",
       "      <td>5.04610</td>\n",
       "      <td>5.04610</td>\n",
       "      <td>4.98716</td>\n",
       "      <td>4.98716</td>\n",
       "      <td>593562.955237</td>\n",
       "    </tr>\n",
       "    <tr>\n",
       "      <th>1962-01-03</th>\n",
       "      <td>4.98716</td>\n",
       "      <td>5.03292</td>\n",
       "      <td>4.98716</td>\n",
       "      <td>5.03292</td>\n",
       "      <td>445175.034277</td>\n",
       "    </tr>\n",
       "    <tr>\n",
       "      <th>1962-01-04</th>\n",
       "      <td>5.03292</td>\n",
       "      <td>5.03292</td>\n",
       "      <td>4.98052</td>\n",
       "      <td>4.98052</td>\n",
       "      <td>399513.586679</td>\n",
       "    </tr>\n",
       "    <tr>\n",
       "      <th>1962-01-05</th>\n",
       "      <td>4.97389</td>\n",
       "      <td>4.97389</td>\n",
       "      <td>4.87511</td>\n",
       "      <td>4.88166</td>\n",
       "      <td>559321.480565</td>\n",
       "    </tr>\n",
       "    <tr>\n",
       "      <th>1962-01-08</th>\n",
       "      <td>4.88166</td>\n",
       "      <td>4.88166</td>\n",
       "      <td>4.75059</td>\n",
       "      <td>4.78972</td>\n",
       "      <td>833273.771393</td>\n",
       "    </tr>\n",
       "  </tbody>\n",
       "</table>\n",
       "</div>"
      ],
      "text/plain": [
       "               Open     High      Low    Close         Volume\n",
       "Date                                                         \n",
       "1962-01-02  5.04610  5.04610  4.98716  4.98716  593562.955237\n",
       "1962-01-03  4.98716  5.03292  4.98716  5.03292  445175.034277\n",
       "1962-01-04  5.03292  5.03292  4.98052  4.98052  399513.586679\n",
       "1962-01-05  4.97389  4.97389  4.87511  4.88166  559321.480565\n",
       "1962-01-08  4.88166  4.88166  4.75059  4.78972  833273.771393"
      ]
     },
     "execution_count": 3,
     "metadata": {},
     "output_type": "execute_result"
    }
   ],
   "source": [
    "stocks = pd.read_csv('ibm.csv' , parse_dates=['Date'], index_col='Date').sort_index()\n",
    "stocks.head()"
   ]
  },
  {
   "cell_type": "code",
   "execution_count": 4,
   "metadata": {},
   "outputs": [
    {
     "data": {
      "text/plain": [
       "DatetimeIndex(['1962-01-02', '1962-01-03', '1962-01-04', '1962-01-05',\n",
       "               '1962-01-08', '1962-01-09', '1962-01-10', '1962-01-11',\n",
       "               '1962-01-12', '1962-01-15',\n",
       "               ...\n",
       "               '2023-09-28', '2023-09-29', '2023-10-02', '2023-10-03',\n",
       "               '2023-10-04', '2023-10-05', '2023-10-06', '2023-10-09',\n",
       "               '2023-10-10', '2023-10-11'],\n",
       "              dtype='datetime64[ns]', name='Date', length=15546, freq=None)"
      ]
     },
     "execution_count": 4,
     "metadata": {},
     "output_type": "execute_result"
    }
   ],
   "source": [
    "stocks.index"
   ]
  },
  {
   "cell_type": "code",
   "execution_count": 9,
   "metadata": {},
   "outputs": [
    {
     "data": {
      "text/plain": [
       "DatetimeIndex(['1962-01-07', '1962-01-08', '1962-01-09', '1962-01-10',\n",
       "               '1962-01-13', '1962-01-14', '1962-01-15', '1962-01-16',\n",
       "               '1962-01-17', '1962-01-20',\n",
       "               ...\n",
       "               '2023-10-03', '2023-10-04', '2023-10-07', '2023-10-08',\n",
       "               '2023-10-09', '2023-10-10', '2023-10-11', '2023-10-14',\n",
       "               '2023-10-15', '2023-10-16'],\n",
       "              dtype='datetime64[ns]', name='Date', length=15546, freq=None)"
      ]
     },
     "execution_count": 9,
     "metadata": {},
     "output_type": "execute_result"
    }
   ],
   "source": [
    "stocks.index + pd.DateOffset(days = 5)   # it says to go through every timestamp value of date index and add 5 days to eah one "
   ]
  },
  {
   "cell_type": "code",
   "execution_count": 10,
   "metadata": {},
   "outputs": [
    {
     "data": {
      "text/plain": [
       "DatetimeIndex(['1961-12-28', '1961-12-29', '1961-12-30', '1961-12-31',\n",
       "               '1962-01-03', '1962-01-04', '1962-01-05', '1962-01-06',\n",
       "               '1962-01-07', '1962-01-10',\n",
       "               ...\n",
       "               '2023-09-23', '2023-09-24', '2023-09-27', '2023-09-28',\n",
       "               '2023-09-29', '2023-09-30', '2023-10-01', '2023-10-04',\n",
       "               '2023-10-05', '2023-10-06'],\n",
       "              dtype='datetime64[ns]', name='Date', length=15546, freq=None)"
      ]
     },
     "execution_count": 10,
     "metadata": {},
     "output_type": "execute_result"
    }
   ],
   "source": [
    "stocks.index - pd.DateOffset(days = 5)  #going back 5 days "
   ]
  },
  {
   "cell_type": "code",
   "execution_count": 11,
   "metadata": {},
   "outputs": [
    {
     "data": {
      "text/plain": [
       "DatetimeIndex(['1962-06-02', '1962-06-03', '1962-06-04', '1962-06-05',\n",
       "               '1962-06-08', '1962-06-09', '1962-06-10', '1962-06-11',\n",
       "               '1962-06-12', '1962-06-15',\n",
       "               ...\n",
       "               '2024-02-28', '2024-02-29', '2024-03-02', '2024-03-03',\n",
       "               '2024-03-04', '2024-03-05', '2024-03-06', '2024-03-09',\n",
       "               '2024-03-10', '2024-03-11'],\n",
       "              dtype='datetime64[ns]', name='Date', length=15546, freq=None)"
      ]
     },
     "execution_count": 11,
     "metadata": {},
     "output_type": "execute_result"
    }
   ],
   "source": [
    "stocks.index + pd.DateOffset(months = 5)  #adding 5 months to every date time index"
   ]
  },
  {
   "cell_type": "code",
   "execution_count": 14,
   "metadata": {},
   "outputs": [
    {
     "data": {
      "text/plain": [
       "DatetimeIndex(['1961-01-02', '1961-01-03', '1961-01-04', '1961-01-05',\n",
       "               '1961-01-08', '1961-01-09', '1961-01-10', '1961-01-11',\n",
       "               '1961-01-12', '1961-01-15',\n",
       "               ...\n",
       "               '2022-09-28', '2022-09-29', '2022-10-02', '2022-10-03',\n",
       "               '2022-10-04', '2022-10-05', '2022-10-06', '2022-10-09',\n",
       "               '2022-10-10', '2022-10-11'],\n",
       "              dtype='datetime64[ns]', name='Date', length=15546, freq=None)"
      ]
     },
     "execution_count": 14,
     "metadata": {},
     "output_type": "execute_result"
    }
   ],
   "source": [
    "stocks.index - pd.DateOffset(years = 1) #going back one year "
   ]
  },
  {
   "cell_type": "code",
   "execution_count": 15,
   "metadata": {},
   "outputs": [
    {
     "data": {
      "text/plain": [
       "DatetimeIndex(['1962-01-02 05:00:00', '1962-01-03 05:00:00',\n",
       "               '1962-01-04 05:00:00', '1962-01-05 05:00:00',\n",
       "               '1962-01-08 05:00:00', '1962-01-09 05:00:00',\n",
       "               '1962-01-10 05:00:00', '1962-01-11 05:00:00',\n",
       "               '1962-01-12 05:00:00', '1962-01-15 05:00:00',\n",
       "               ...\n",
       "               '2023-09-28 05:00:00', '2023-09-29 05:00:00',\n",
       "               '2023-10-02 05:00:00', '2023-10-03 05:00:00',\n",
       "               '2023-10-04 05:00:00', '2023-10-05 05:00:00',\n",
       "               '2023-10-06 05:00:00', '2023-10-09 05:00:00',\n",
       "               '2023-10-10 05:00:00', '2023-10-11 05:00:00'],\n",
       "              dtype='datetime64[ns]', name='Date', length=15546, freq=None)"
      ]
     },
     "execution_count": 15,
     "metadata": {},
     "output_type": "execute_result"
    }
   ],
   "source": [
    "stocks.index + pd.DateOffset(hours = 5)  #added 5 hours to every single date in datetime index going forward"
   ]
  },
  {
   "cell_type": "code",
   "execution_count": 17,
   "metadata": {},
   "outputs": [
    {
     "data": {
      "text/plain": [
       "DatetimeIndex(['1963-03-07 05:15:30', '1963-03-08 05:15:30',\n",
       "               '1963-03-09 05:15:30', '1963-03-10 05:15:30',\n",
       "               '1963-03-13 05:15:30', '1963-03-14 05:15:30',\n",
       "               '1963-03-15 05:15:30', '1963-03-16 05:15:30',\n",
       "               '1963-03-17 05:15:30', '1963-03-20 05:15:30',\n",
       "               ...\n",
       "               '2024-12-03 05:15:30', '2024-12-04 05:15:30',\n",
       "               '2024-12-07 05:15:30', '2024-12-08 05:15:30',\n",
       "               '2024-12-09 05:15:30', '2024-12-10 05:15:30',\n",
       "               '2024-12-11 05:15:30', '2024-12-14 05:15:30',\n",
       "               '2024-12-15 05:15:30', '2024-12-16 05:15:30'],\n",
       "              dtype='datetime64[ns]', name='Date', length=15546, freq=None)"
      ]
     },
     "execution_count": 17,
     "metadata": {},
     "output_type": "execute_result"
    }
   ],
   "source": [
    "# we can add multiple parameters to dateoffset object\n",
    "\n",
    "stocks.index + pd.DateOffset(years=1, months= 2,  days = 5 , hours = 5, minutes = 15, seconds = 30)"
   ]
  },
  {
   "cell_type": "code",
   "execution_count": 26,
   "metadata": {},
   "outputs": [
    {
     "data": {
      "text/plain": [
       "DatetimeIndex(['1991-04-12', '1992-04-12', '1993-04-12', '1994-04-12',\n",
       "               '1995-04-12', '1996-04-12', '1997-04-12', '1998-04-12',\n",
       "               '1999-04-12', '2000-04-12', '2001-04-12', '2002-04-12',\n",
       "               '2003-04-12', '2004-04-12', '2005-04-12', '2006-04-12',\n",
       "               '2007-04-12', '2008-04-12', '2009-04-12', '2010-04-12',\n",
       "               '2011-04-12', '2012-04-12', '2013-04-12', '2014-04-12',\n",
       "               '2015-04-12', '2016-04-12', '2017-04-12', '2018-04-12',\n",
       "               '2019-04-12', '2020-04-12', '2021-04-12', '2022-04-12',\n",
       "               '2023-04-12'],\n",
       "              dtype='datetime64[ns]', freq='<DateOffset: years=1>')"
      ]
     },
     "execution_count": 26,
     "metadata": {},
     "output_type": "execute_result"
    }
   ],
   "source": [
    "#Find the IBM stock price for on every one of 4th of April(12/4)  starting from the year 1991\n",
    "\n",
    "date_stock = pd.date_range(start='1991-4-12' , end='2023-4-12' , freq=pd.DateOffset(years = 1))\n",
    "date_stock"
   ]
  },
  {
   "cell_type": "code",
   "execution_count": 29,
   "metadata": {},
   "outputs": [
    {
     "data": {
      "text/html": [
       "<div>\n",
       "<style scoped>\n",
       "    .dataframe tbody tr th:only-of-type {\n",
       "        vertical-align: middle;\n",
       "    }\n",
       "\n",
       "    .dataframe tbody tr th {\n",
       "        vertical-align: top;\n",
       "    }\n",
       "\n",
       "    .dataframe thead th {\n",
       "        text-align: right;\n",
       "    }\n",
       "</style>\n",
       "<table border=\"1\" class=\"dataframe\">\n",
       "  <thead>\n",
       "    <tr style=\"text-align: right;\">\n",
       "      <th></th>\n",
       "      <th>Open</th>\n",
       "      <th>High</th>\n",
       "      <th>Low</th>\n",
       "      <th>Close</th>\n",
       "      <th>Volume</th>\n",
       "    </tr>\n",
       "    <tr>\n",
       "      <th>Date</th>\n",
       "      <th></th>\n",
       "      <th></th>\n",
       "      <th></th>\n",
       "      <th></th>\n",
       "      <th></th>\n",
       "    </tr>\n",
       "  </thead>\n",
       "  <tbody>\n",
       "    <tr>\n",
       "      <th>1991-04-12</th>\n",
       "      <td>18.16780</td>\n",
       "      <td>18.16780</td>\n",
       "      <td>17.69540</td>\n",
       "      <td>17.75200</td>\n",
       "      <td>2.164536e+07</td>\n",
       "    </tr>\n",
       "    <tr>\n",
       "      <th>1993-04-12</th>\n",
       "      <td>8.30500</td>\n",
       "      <td>8.48788</td>\n",
       "      <td>8.28665</td>\n",
       "      <td>8.34598</td>\n",
       "      <td>8.518730e+06</td>\n",
       "    </tr>\n",
       "    <tr>\n",
       "      <th>1994-04-12</th>\n",
       "      <td>8.79793</td>\n",
       "      <td>8.81911</td>\n",
       "      <td>8.59455</td>\n",
       "      <td>8.65281</td>\n",
       "      <td>1.149508e+07</td>\n",
       "    </tr>\n",
       "    <tr>\n",
       "      <th>1995-04-12</th>\n",
       "      <td>14.16070</td>\n",
       "      <td>14.34310</td>\n",
       "      <td>14.09330</td>\n",
       "      <td>14.25620</td>\n",
       "      <td>1.158640e+07</td>\n",
       "    </tr>\n",
       "    <tr>\n",
       "      <th>1996-04-12</th>\n",
       "      <td>18.86360</td>\n",
       "      <td>18.92410</td>\n",
       "      <td>18.02330</td>\n",
       "      <td>18.25170</td>\n",
       "      <td>4.724783e+07</td>\n",
       "    </tr>\n",
       "  </tbody>\n",
       "</table>\n",
       "</div>"
      ],
      "text/plain": [
       "                Open      High       Low     Close        Volume\n",
       "Date                                                            \n",
       "1991-04-12  18.16780  18.16780  17.69540  17.75200  2.164536e+07\n",
       "1993-04-12   8.30500   8.48788   8.28665   8.34598  8.518730e+06\n",
       "1994-04-12   8.79793   8.81911   8.59455   8.65281  1.149508e+07\n",
       "1995-04-12  14.16070  14.34310  14.09330  14.25620  1.158640e+07\n",
       "1996-04-12  18.86360  18.92410  18.02330  18.25170  4.724783e+07"
      ]
     },
     "execution_count": 29,
     "metadata": {},
     "output_type": "execute_result"
    }
   ],
   "source": [
    "stocks.index.isin(date_stock)  #going to check whether dates in stocks index is present in date_stock datetime index then filter it\n",
    "\n",
    "stocks[stocks.index.isin(date_stock)].head()"
   ]
  },
  {
   "cell_type": "code",
   "execution_count": 31,
   "metadata": {},
   "outputs": [
    {
     "data": {
      "text/html": [
       "<div>\n",
       "<style scoped>\n",
       "    .dataframe tbody tr th:only-of-type {\n",
       "        vertical-align: middle;\n",
       "    }\n",
       "\n",
       "    .dataframe tbody tr th {\n",
       "        vertical-align: top;\n",
       "    }\n",
       "\n",
       "    .dataframe thead th {\n",
       "        text-align: right;\n",
       "    }\n",
       "</style>\n",
       "<table border=\"1\" class=\"dataframe\">\n",
       "  <thead>\n",
       "    <tr style=\"text-align: right;\">\n",
       "      <th></th>\n",
       "      <th>Open</th>\n",
       "      <th>High</th>\n",
       "      <th>Low</th>\n",
       "      <th>Close</th>\n",
       "      <th>Volume</th>\n",
       "    </tr>\n",
       "    <tr>\n",
       "      <th>Date</th>\n",
       "      <th></th>\n",
       "      <th></th>\n",
       "      <th></th>\n",
       "      <th></th>\n",
       "      <th></th>\n",
       "    </tr>\n",
       "  </thead>\n",
       "  <tbody>\n",
       "    <tr>\n",
       "      <th>1991-04-12</th>\n",
       "      <td>18.16780</td>\n",
       "      <td>18.16780</td>\n",
       "      <td>17.69540</td>\n",
       "      <td>17.75200</td>\n",
       "      <td>2.164536e+07</td>\n",
       "    </tr>\n",
       "    <tr>\n",
       "      <th>1993-04-12</th>\n",
       "      <td>8.30500</td>\n",
       "      <td>8.48788</td>\n",
       "      <td>8.28665</td>\n",
       "      <td>8.34598</td>\n",
       "      <td>8.518730e+06</td>\n",
       "    </tr>\n",
       "    <tr>\n",
       "      <th>1994-04-12</th>\n",
       "      <td>8.79793</td>\n",
       "      <td>8.81911</td>\n",
       "      <td>8.59455</td>\n",
       "      <td>8.65281</td>\n",
       "      <td>1.149508e+07</td>\n",
       "    </tr>\n",
       "    <tr>\n",
       "      <th>1995-04-12</th>\n",
       "      <td>14.16070</td>\n",
       "      <td>14.34310</td>\n",
       "      <td>14.09330</td>\n",
       "      <td>14.25620</td>\n",
       "      <td>1.158640e+07</td>\n",
       "    </tr>\n",
       "    <tr>\n",
       "      <th>1996-04-12</th>\n",
       "      <td>18.86360</td>\n",
       "      <td>18.92410</td>\n",
       "      <td>18.02330</td>\n",
       "      <td>18.25170</td>\n",
       "      <td>4.724783e+07</td>\n",
       "    </tr>\n",
       "    <tr>\n",
       "      <th>1999-04-12</th>\n",
       "      <td>60.07580</td>\n",
       "      <td>60.10990</td>\n",
       "      <td>59.27160</td>\n",
       "      <td>60.05430</td>\n",
       "      <td>1.366693e+07</td>\n",
       "    </tr>\n",
       "    <tr>\n",
       "      <th>2000-04-12</th>\n",
       "      <td>78.30890</td>\n",
       "      <td>78.30890</td>\n",
       "      <td>73.13650</td>\n",
       "      <td>74.49310</td>\n",
       "      <td>1.352295e+07</td>\n",
       "    </tr>\n",
       "    <tr>\n",
       "      <th>2001-04-12</th>\n",
       "      <td>63.33930</td>\n",
       "      <td>64.06240</td>\n",
       "      <td>62.51650</td>\n",
       "      <td>63.20750</td>\n",
       "      <td>1.429048e+07</td>\n",
       "    </tr>\n",
       "    <tr>\n",
       "      <th>2002-04-12</th>\n",
       "      <td>57.53060</td>\n",
       "      <td>57.79410</td>\n",
       "      <td>55.45480</td>\n",
       "      <td>56.24140</td>\n",
       "      <td>2.405615e+07</td>\n",
       "    </tr>\n",
       "    <tr>\n",
       "      <th>2004-04-12</th>\n",
       "      <td>61.43420</td>\n",
       "      <td>61.99840</td>\n",
       "      <td>61.36590</td>\n",
       "      <td>61.59330</td>\n",
       "      <td>4.736957e+06</td>\n",
       "    </tr>\n",
       "    <tr>\n",
       "      <th>2005-04-12</th>\n",
       "      <td>56.44050</td>\n",
       "      <td>56.66400</td>\n",
       "      <td>55.95930</td>\n",
       "      <td>56.34190</td>\n",
       "      <td>1.286059e+07</td>\n",
       "    </tr>\n",
       "    <tr>\n",
       "      <th>2006-04-12</th>\n",
       "      <td>53.28730</td>\n",
       "      <td>53.46300</td>\n",
       "      <td>52.97880</td>\n",
       "      <td>53.05790</td>\n",
       "      <td>5.943571e+06</td>\n",
       "    </tr>\n",
       "    <tr>\n",
       "      <th>2007-04-12</th>\n",
       "      <td>62.43660</td>\n",
       "      <td>62.95670</td>\n",
       "      <td>62.10960</td>\n",
       "      <td>62.86010</td>\n",
       "      <td>1.078356e+07</td>\n",
       "    </tr>\n",
       "    <tr>\n",
       "      <th>2010-04-12</th>\n",
       "      <td>84.48650</td>\n",
       "      <td>84.73830</td>\n",
       "      <td>84.26890</td>\n",
       "      <td>84.34410</td>\n",
       "      <td>6.076087e+06</td>\n",
       "    </tr>\n",
       "    <tr>\n",
       "      <th>2011-04-12</th>\n",
       "      <td>107.36100</td>\n",
       "      <td>107.59500</td>\n",
       "      <td>106.65800</td>\n",
       "      <td>107.28300</td>\n",
       "      <td>5.876340e+06</td>\n",
       "    </tr>\n",
       "    <tr>\n",
       "      <th>2012-04-12</th>\n",
       "      <td>135.49600</td>\n",
       "      <td>137.33200</td>\n",
       "      <td>135.37000</td>\n",
       "      <td>137.18500</td>\n",
       "      <td>4.384856e+06</td>\n",
       "    </tr>\n",
       "    <tr>\n",
       "      <th>2013-04-12</th>\n",
       "      <td>143.23600</td>\n",
       "      <td>143.71500</td>\n",
       "      <td>142.54300</td>\n",
       "      <td>143.64600</td>\n",
       "      <td>4.658051e+06</td>\n",
       "    </tr>\n",
       "    <tr>\n",
       "      <th>2016-04-12</th>\n",
       "      <td>110.27900</td>\n",
       "      <td>110.65000</td>\n",
       "      <td>109.53700</td>\n",
       "      <td>110.28900</td>\n",
       "      <td>4.874036e+06</td>\n",
       "    </tr>\n",
       "    <tr>\n",
       "      <th>2017-04-12</th>\n",
       "      <td>130.58800</td>\n",
       "      <td>130.71500</td>\n",
       "      <td>129.80700</td>\n",
       "      <td>130.29600</td>\n",
       "      <td>4.292101e+06</td>\n",
       "    </tr>\n",
       "    <tr>\n",
       "      <th>2018-04-12</th>\n",
       "      <td>124.55700</td>\n",
       "      <td>126.31400</td>\n",
       "      <td>124.48900</td>\n",
       "      <td>125.58200</td>\n",
       "      <td>7.097073e+06</td>\n",
       "    </tr>\n",
       "    <tr>\n",
       "      <th>2019-04-12</th>\n",
       "      <td>120.04800</td>\n",
       "      <td>120.18500</td>\n",
       "      <td>119.57000</td>\n",
       "      <td>120.10700</td>\n",
       "      <td>3.484076e+06</td>\n",
       "    </tr>\n",
       "    <tr>\n",
       "      <th>2021-04-12</th>\n",
       "      <td>124.11800</td>\n",
       "      <td>124.43900</td>\n",
       "      <td>123.03400</td>\n",
       "      <td>123.71800</td>\n",
       "      <td>4.083806e+06</td>\n",
       "    </tr>\n",
       "    <tr>\n",
       "      <th>2022-04-12</th>\n",
       "      <td>121.89300</td>\n",
       "      <td>122.78100</td>\n",
       "      <td>121.09200</td>\n",
       "      <td>121.47300</td>\n",
       "      <td>2.790840e+06</td>\n",
       "    </tr>\n",
       "    <tr>\n",
       "      <th>2023-04-12</th>\n",
       "      <td>130.40000</td>\n",
       "      <td>130.88570</td>\n",
       "      <td>128.17000</td>\n",
       "      <td>128.54000</td>\n",
       "      <td>3.957542e+06</td>\n",
       "    </tr>\n",
       "  </tbody>\n",
       "</table>\n",
       "</div>"
      ],
      "text/plain": [
       "                 Open       High        Low      Close        Volume\n",
       "Date                                                                \n",
       "1991-04-12   18.16780   18.16780   17.69540   17.75200  2.164536e+07\n",
       "1993-04-12    8.30500    8.48788    8.28665    8.34598  8.518730e+06\n",
       "1994-04-12    8.79793    8.81911    8.59455    8.65281  1.149508e+07\n",
       "1995-04-12   14.16070   14.34310   14.09330   14.25620  1.158640e+07\n",
       "1996-04-12   18.86360   18.92410   18.02330   18.25170  4.724783e+07\n",
       "1999-04-12   60.07580   60.10990   59.27160   60.05430  1.366693e+07\n",
       "2000-04-12   78.30890   78.30890   73.13650   74.49310  1.352295e+07\n",
       "2001-04-12   63.33930   64.06240   62.51650   63.20750  1.429048e+07\n",
       "2002-04-12   57.53060   57.79410   55.45480   56.24140  2.405615e+07\n",
       "2004-04-12   61.43420   61.99840   61.36590   61.59330  4.736957e+06\n",
       "2005-04-12   56.44050   56.66400   55.95930   56.34190  1.286059e+07\n",
       "2006-04-12   53.28730   53.46300   52.97880   53.05790  5.943571e+06\n",
       "2007-04-12   62.43660   62.95670   62.10960   62.86010  1.078356e+07\n",
       "2010-04-12   84.48650   84.73830   84.26890   84.34410  6.076087e+06\n",
       "2011-04-12  107.36100  107.59500  106.65800  107.28300  5.876340e+06\n",
       "2012-04-12  135.49600  137.33200  135.37000  137.18500  4.384856e+06\n",
       "2013-04-12  143.23600  143.71500  142.54300  143.64600  4.658051e+06\n",
       "2016-04-12  110.27900  110.65000  109.53700  110.28900  4.874036e+06\n",
       "2017-04-12  130.58800  130.71500  129.80700  130.29600  4.292101e+06\n",
       "2018-04-12  124.55700  126.31400  124.48900  125.58200  7.097073e+06\n",
       "2019-04-12  120.04800  120.18500  119.57000  120.10700  3.484076e+06\n",
       "2021-04-12  124.11800  124.43900  123.03400  123.71800  4.083806e+06\n",
       "2022-04-12  121.89300  122.78100  121.09200  121.47300  2.790840e+06\n",
       "2023-04-12  130.40000  130.88570  128.17000  128.54000  3.957542e+06"
      ]
     },
     "execution_count": 31,
     "metadata": {},
     "output_type": "execute_result"
    }
   ],
   "source": [
    "#Find the IBM stock price for on every one of 4th of April(12/4)  starting from the year 1991\n",
    "\n",
    "date_stock = pd.date_range(start='1991-4-12' , end='2023-4-12' , freq=pd.DateOffset(years = 1))\n",
    "date_stock\n",
    "\n",
    "stocks.index.isin(date_stock)  #going to check whether dates in stocks index is present in date_stock datetime index then filter it\n",
    "\n",
    "stocks[stocks.index.isin(date_stock)]"
   ]
  },
  {
   "cell_type": "code",
   "execution_count": null,
   "metadata": {},
   "outputs": [],
   "source": []
  },
  {
   "cell_type": "markdown",
   "metadata": {},
   "source": [
    "## Specialized Date Offsets\n",
    "- Pandas nests more specialized date offsets in `pd.tseries.offsets`.\n",
    "- We can add a different amount of time to each date (for example, month end, quarter end, year begin)"
   ]
  },
  {
   "cell_type": "code",
   "execution_count": 3,
   "metadata": {},
   "outputs": [
    {
     "data": {
      "text/html": [
       "<div>\n",
       "<style scoped>\n",
       "    .dataframe tbody tr th:only-of-type {\n",
       "        vertical-align: middle;\n",
       "    }\n",
       "\n",
       "    .dataframe tbody tr th {\n",
       "        vertical-align: top;\n",
       "    }\n",
       "\n",
       "    .dataframe thead th {\n",
       "        text-align: right;\n",
       "    }\n",
       "</style>\n",
       "<table border=\"1\" class=\"dataframe\">\n",
       "  <thead>\n",
       "    <tr style=\"text-align: right;\">\n",
       "      <th></th>\n",
       "      <th>Open</th>\n",
       "      <th>High</th>\n",
       "      <th>Low</th>\n",
       "      <th>Close</th>\n",
       "      <th>Volume</th>\n",
       "    </tr>\n",
       "    <tr>\n",
       "      <th>Date</th>\n",
       "      <th></th>\n",
       "      <th></th>\n",
       "      <th></th>\n",
       "      <th></th>\n",
       "      <th></th>\n",
       "    </tr>\n",
       "  </thead>\n",
       "  <tbody>\n",
       "    <tr>\n",
       "      <th>1962-01-02</th>\n",
       "      <td>5.04610</td>\n",
       "      <td>5.04610</td>\n",
       "      <td>4.98716</td>\n",
       "      <td>4.98716</td>\n",
       "      <td>593562.955237</td>\n",
       "    </tr>\n",
       "    <tr>\n",
       "      <th>1962-01-03</th>\n",
       "      <td>4.98716</td>\n",
       "      <td>5.03292</td>\n",
       "      <td>4.98716</td>\n",
       "      <td>5.03292</td>\n",
       "      <td>445175.034277</td>\n",
       "    </tr>\n",
       "    <tr>\n",
       "      <th>1962-01-04</th>\n",
       "      <td>5.03292</td>\n",
       "      <td>5.03292</td>\n",
       "      <td>4.98052</td>\n",
       "      <td>4.98052</td>\n",
       "      <td>399513.586679</td>\n",
       "    </tr>\n",
       "    <tr>\n",
       "      <th>1962-01-05</th>\n",
       "      <td>4.97389</td>\n",
       "      <td>4.97389</td>\n",
       "      <td>4.87511</td>\n",
       "      <td>4.88166</td>\n",
       "      <td>559321.480565</td>\n",
       "    </tr>\n",
       "    <tr>\n",
       "      <th>1962-01-08</th>\n",
       "      <td>4.88166</td>\n",
       "      <td>4.88166</td>\n",
       "      <td>4.75059</td>\n",
       "      <td>4.78972</td>\n",
       "      <td>833273.771393</td>\n",
       "    </tr>\n",
       "  </tbody>\n",
       "</table>\n",
       "</div>"
      ],
      "text/plain": [
       "               Open     High      Low    Close         Volume\n",
       "Date                                                         \n",
       "1962-01-02  5.04610  5.04610  4.98716  4.98716  593562.955237\n",
       "1962-01-03  4.98716  5.03292  4.98716  5.03292  445175.034277\n",
       "1962-01-04  5.03292  5.03292  4.98052  4.98052  399513.586679\n",
       "1962-01-05  4.97389  4.97389  4.87511  4.88166  559321.480565\n",
       "1962-01-08  4.88166  4.88166  4.75059  4.78972  833273.771393"
      ]
     },
     "execution_count": 3,
     "metadata": {},
     "output_type": "execute_result"
    }
   ],
   "source": [
    "stocks = pd.read_csv('ibm.csv' , parse_dates=['Date'] , index_col='Date').sort_index()\n",
    "stocks.head()"
   ]
  },
  {
   "cell_type": "code",
   "execution_count": 6,
   "metadata": {},
   "outputs": [
    {
     "data": {
      "text/plain": [
       "DatetimeIndex(['1962-01-31', '1962-01-31', '1962-01-31', '1962-01-31',\n",
       "               '1962-01-31', '1962-01-31', '1962-01-31', '1962-01-31',\n",
       "               '1962-01-31', '1962-01-31',\n",
       "               ...\n",
       "               '2023-09-30', '2023-09-30', '2023-10-31', '2023-10-31',\n",
       "               '2023-10-31', '2023-10-31', '2023-10-31', '2023-10-31',\n",
       "               '2023-10-31', '2023-10-31'],\n",
       "              dtype='datetime64[ns]', name='Date', length=15546, freq=None)"
      ]
     },
     "execution_count": 6,
     "metadata": {},
     "output_type": "execute_result"
    }
   ],
   "source": [
    "stocks.index + pd.tseries.offsets.MonthEnd()   #gives specialized dateoff set that will take to the end of month and adding + sign means we are moving forward\n",
    "                                                #getting last day of the month untill we get to the next month"
   ]
  },
  {
   "cell_type": "code",
   "execution_count": 7,
   "metadata": {},
   "outputs": [
    {
     "data": {
      "text/plain": [
       "DatetimeIndex(['1961-12-31', '1961-12-31', '1961-12-31', '1961-12-31',\n",
       "               '1961-12-31', '1961-12-31', '1961-12-31', '1961-12-31',\n",
       "               '1961-12-31', '1961-12-31',\n",
       "               ...\n",
       "               '2023-08-31', '2023-08-31', '2023-09-30', '2023-09-30',\n",
       "               '2023-09-30', '2023-09-30', '2023-09-30', '2023-09-30',\n",
       "               '2023-09-30', '2023-09-30'],\n",
       "              dtype='datetime64[ns]', name='Date', length=15546, freq=None)"
      ]
     },
     "execution_count": 7,
     "metadata": {},
     "output_type": "execute_result"
    }
   ],
   "source": [
    "# with - sign we are moving backwards, to the end of previous month\n",
    "stocks.index - pd.tseries.offsets.MonthEnd()"
   ]
  },
  {
   "cell_type": "code",
   "execution_count": 8,
   "metadata": {},
   "outputs": [
    {
     "data": {
      "text/plain": [
       "DatetimeIndex(['1962-03-31', '1962-03-31', '1962-03-31', '1962-03-31',\n",
       "               '1962-03-31', '1962-03-31', '1962-03-31', '1962-03-31',\n",
       "               '1962-03-31', '1962-03-31',\n",
       "               ...\n",
       "               '2023-09-30', '2023-09-30', '2023-12-31', '2023-12-31',\n",
       "               '2023-12-31', '2023-12-31', '2023-12-31', '2023-12-31',\n",
       "               '2023-12-31', '2023-12-31'],\n",
       "              dtype='datetime64[ns]', name='Date', length=15546, freq=None)"
      ]
     },
     "execution_count": 8,
     "metadata": {},
     "output_type": "execute_result"
    }
   ],
   "source": [
    "stocks.index + pd.tseries.offsets.QuarterEnd()  # moving forward with each date to the end of the Quarter"
   ]
  },
  {
   "cell_type": "code",
   "execution_count": 9,
   "metadata": {
    "tags": []
   },
   "outputs": [
    {
     "data": {
      "text/plain": [
       "DatetimeIndex(['1961-12-31', '1961-12-31', '1961-12-31', '1961-12-31',\n",
       "               '1961-12-31', '1961-12-31', '1961-12-31', '1961-12-31',\n",
       "               '1961-12-31', '1961-12-31',\n",
       "               ...\n",
       "               '2023-06-30', '2023-06-30', '2023-09-30', '2023-09-30',\n",
       "               '2023-09-30', '2023-09-30', '2023-09-30', '2023-09-30',\n",
       "               '2023-09-30', '2023-09-30'],\n",
       "              dtype='datetime64[ns]', name='Date', length=15546, freq=None)"
      ]
     },
     "execution_count": 9,
     "metadata": {},
     "output_type": "execute_result"
    }
   ],
   "source": [
    "stocks.index - pd.tseries.offsets.QuarterEnd()  #going backwards to end of Previous Quarter"
   ]
  },
  {
   "cell_type": "code",
   "execution_count": 13,
   "metadata": {
    "tags": []
   },
   "outputs": [
    {
     "data": {
      "text/plain": [
       "DatetimeIndex(['1962-04-01', '1962-04-01', '1962-04-01', '1962-04-01',\n",
       "               '1962-04-01', '1962-04-01', '1962-04-01', '1962-04-01',\n",
       "               '1962-04-01', '1962-04-01',\n",
       "               ...\n",
       "               '2023-10-01', '2023-10-01', '2024-01-01', '2024-01-01',\n",
       "               '2024-01-01', '2024-01-01', '2024-01-01', '2024-01-01',\n",
       "               '2024-01-01', '2024-01-01'],\n",
       "              dtype='datetime64[ns]', name='Date', length=15546, freq=None)"
      ]
     },
     "execution_count": 13,
     "metadata": {},
     "output_type": "execute_result"
    }
   ],
   "source": [
    "stocks.index + pd.tseries.offsets.QuarterBegin()  #by default quarter start is given to 3 , so we need to startmonth = 1, to start the quater begin date from month 4\n",
    "\n",
    "stocks.index + pd.tseries.offsets.QuarterBegin(startingMonth = 1)"
   ]
  },
  {
   "cell_type": "code",
   "execution_count": 14,
   "metadata": {
    "tags": []
   },
   "outputs": [
    {
     "data": {
      "text/plain": [
       "DatetimeIndex(['1962-01-01', '1962-01-01', '1962-01-01', '1962-01-01',\n",
       "               '1962-01-01', '1962-01-01', '1962-01-01', '1962-01-01',\n",
       "               '1962-01-01', '1962-01-01',\n",
       "               ...\n",
       "               '2023-07-01', '2023-07-01', '2023-10-01', '2023-10-01',\n",
       "               '2023-10-01', '2023-10-01', '2023-10-01', '2023-10-01',\n",
       "               '2023-10-01', '2023-10-01'],\n",
       "              dtype='datetime64[ns]', name='Date', length=15546, freq=None)"
      ]
     },
     "execution_count": 14,
     "metadata": {},
     "output_type": "execute_result"
    }
   ],
   "source": [
    "#going backwards to beginning to of the quarter\n",
    "stocks.index -  pd.tseries.offsets.QuarterBegin(startingMonth = 1)"
   ]
  },
  {
   "cell_type": "code",
   "execution_count": 15,
   "metadata": {
    "tags": []
   },
   "outputs": [
    {
     "data": {
      "text/plain": [
       "DatetimeIndex(['1962-12-31', '1962-12-31', '1962-12-31', '1962-12-31',\n",
       "               '1962-12-31', '1962-12-31', '1962-12-31', '1962-12-31',\n",
       "               '1962-12-31', '1962-12-31',\n",
       "               ...\n",
       "               '2023-12-31', '2023-12-31', '2023-12-31', '2023-12-31',\n",
       "               '2023-12-31', '2023-12-31', '2023-12-31', '2023-12-31',\n",
       "               '2023-12-31', '2023-12-31'],\n",
       "              dtype='datetime64[ns]', name='Date', length=15546, freq=None)"
      ]
     },
     "execution_count": 15,
     "metadata": {},
     "output_type": "execute_result"
    }
   ],
   "source": [
    "#year end to going forward to each timestamp to end of that year\n",
    "stocks.index + pd.tseries.offsets.YearEnd()"
   ]
  },
  {
   "cell_type": "code",
   "execution_count": 16,
   "metadata": {
    "tags": []
   },
   "outputs": [
    {
     "data": {
      "text/plain": [
       "DatetimeIndex(['1963-01-01', '1963-01-01', '1963-01-01', '1963-01-01',\n",
       "               '1963-01-01', '1963-01-01', '1963-01-01', '1963-01-01',\n",
       "               '1963-01-01', '1963-01-01',\n",
       "               ...\n",
       "               '2024-01-01', '2024-01-01', '2024-01-01', '2024-01-01',\n",
       "               '2024-01-01', '2024-01-01', '2024-01-01', '2024-01-01',\n",
       "               '2024-01-01', '2024-01-01'],\n",
       "              dtype='datetime64[ns]', name='Date', length=15546, freq=None)"
      ]
     },
     "execution_count": 16,
     "metadata": {},
     "output_type": "execute_result"
    }
   ],
   "source": [
    "# going foeward to untill we get to the beginning of the next year \n",
    "stocks.index + pd.tseries.offsets.YearBegin()"
   ]
  },
  {
   "cell_type": "code",
   "execution_count": null,
   "metadata": {},
   "outputs": [],
   "source": []
  },
  {
   "cell_type": "code",
   "execution_count": null,
   "metadata": {},
   "outputs": [],
   "source": []
  },
  {
   "cell_type": "markdown",
   "metadata": {},
   "source": [
    "## Timedeltas\n",
    "- A **Timedelta** is a pandas object that represents a duration (an amount of time).\n",
    "- Subtracting two **Timestamp** objects will yield a **Timedelta** object (this applies to subtracting a **Series** from another **Series**).\n",
    "- The **Timedelta** constructor accepts parameters for time as well as string descriptions."
   ]
  },
  {
   "cell_type": "code",
   "execution_count": 8,
   "metadata": {},
   "outputs": [
    {
     "data": {
      "text/plain": [
       "Timedelta('11 days 00:00:00')"
      ]
     },
     "execution_count": 8,
     "metadata": {},
     "output_type": "execute_result"
    }
   ],
   "source": [
    "pd.Timestamp('2023-3-31') - pd.Timestamp('2023-3-20')"
   ]
  },
  {
   "cell_type": "code",
   "execution_count": 11,
   "metadata": {},
   "outputs": [
    {
     "data": {
      "text/plain": [
       "Timedelta('10 days 16:42:34')"
      ]
     },
     "execution_count": 11,
     "metadata": {},
     "output_type": "execute_result"
    }
   ],
   "source": [
    "pd.Timestamp('2023-3-31 12:30:48') - pd.Timestamp('2023-3-20 19:48:14')"
   ]
  },
  {
   "cell_type": "code",
   "execution_count": 14,
   "metadata": {},
   "outputs": [
    {
     "data": {
      "text/plain": [
       "Timedelta('-11 days +07:17:26')"
      ]
     },
     "execution_count": 14,
     "metadata": {},
     "output_type": "execute_result"
    }
   ],
   "source": [
    "pd.Timestamp('2023-3-20') - pd.Timestamp('2023-3-31')\n",
    "\n",
    "pd.Timestamp('2023-3-20 19:48:14') - pd.Timestamp('2023-3-31 12:30:48')   #we get a negative duration if thedate which is earlier comes first"
   ]
  },
  {
   "cell_type": "code",
   "execution_count": 18,
   "metadata": {},
   "outputs": [
    {
     "data": {
      "text/plain": [
       "Timedelta('3 days 02:05:00')"
      ]
     },
     "execution_count": 18,
     "metadata": {},
     "output_type": "execute_result"
    }
   ],
   "source": [
    "pd.Timedelta(days = 3 , hours =2 ,minutes = 5)  #timedelta representing 3 days 3 hrs and 5 mins"
   ]
  },
  {
   "cell_type": "code",
   "execution_count": 24,
   "metadata": {},
   "outputs": [
    {
     "data": {
      "text/plain": [
       "Timedelta('3 days 05:30:00')"
      ]
     },
     "execution_count": 24,
     "metadata": {},
     "output_type": "execute_result"
    }
   ],
   "source": [
    "pd.Timedelta('5 hours')\n",
    "\n",
    "pd.Timedelta('3 days 5 hours 30minutes')   #pandas can also parse this information and give timedelta"
   ]
  },
  {
   "cell_type": "code",
   "execution_count": 38,
   "metadata": {},
   "outputs": [
    {
     "data": {
      "text/html": [
       "<div>\n",
       "<style scoped>\n",
       "    .dataframe tbody tr th:only-of-type {\n",
       "        vertical-align: middle;\n",
       "    }\n",
       "\n",
       "    .dataframe tbody tr th {\n",
       "        vertical-align: top;\n",
       "    }\n",
       "\n",
       "    .dataframe thead th {\n",
       "        text-align: right;\n",
       "    }\n",
       "</style>\n",
       "<table border=\"1\" class=\"dataframe\">\n",
       "  <thead>\n",
       "    <tr style=\"text-align: right;\">\n",
       "      <th></th>\n",
       "      <th>order_date</th>\n",
       "      <th>delivery_date</th>\n",
       "    </tr>\n",
       "    <tr>\n",
       "      <th>ID</th>\n",
       "      <th></th>\n",
       "      <th></th>\n",
       "    </tr>\n",
       "  </thead>\n",
       "  <tbody>\n",
       "    <tr>\n",
       "      <th>1</th>\n",
       "      <td>1998-05-24</td>\n",
       "      <td>1999-02-05</td>\n",
       "    </tr>\n",
       "    <tr>\n",
       "      <th>2</th>\n",
       "      <td>1992-04-22</td>\n",
       "      <td>1998-03-06</td>\n",
       "    </tr>\n",
       "    <tr>\n",
       "      <th>4</th>\n",
       "      <td>1991-02-10</td>\n",
       "      <td>1992-08-26</td>\n",
       "    </tr>\n",
       "    <tr>\n",
       "      <th>5</th>\n",
       "      <td>1992-07-21</td>\n",
       "      <td>1997-11-20</td>\n",
       "    </tr>\n",
       "    <tr>\n",
       "      <th>7</th>\n",
       "      <td>1993-09-02</td>\n",
       "      <td>1998-06-10</td>\n",
       "    </tr>\n",
       "  </tbody>\n",
       "</table>\n",
       "</div>"
      ],
      "text/plain": [
       "   order_date delivery_date\n",
       "ID                         \n",
       "1  1998-05-24    1999-02-05\n",
       "2  1992-04-22    1998-03-06\n",
       "4  1991-02-10    1992-08-26\n",
       "5  1992-07-21    1997-11-20\n",
       "7  1993-09-02    1998-06-10"
      ]
     },
     "execution_count": 38,
     "metadata": {},
     "output_type": "execute_result"
    }
   ],
   "source": [
    "pd.read_csv('ecommerce.csv')\n",
    "\n",
    "ecommerce = pd.read_csv('ecommerce.csv', index_col='ID' , parse_dates=['order_date', 'delivery_date'], date_format='%m/%d/%y')  #telling pandas to treat date columns as Timestamp\n",
    "ecommerce.head()"
   ]
  },
  {
   "cell_type": "code",
   "execution_count": 42,
   "metadata": {},
   "outputs": [
    {
     "data": {
      "text/plain": [
       "ID\n",
       "1      257 days\n",
       "2     2144 days\n",
       "4      563 days\n",
       "5     1948 days\n",
       "7     1742 days\n",
       "         ...   \n",
       "990   1684 days\n",
       "991   2394 days\n",
       "993   2719 days\n",
       "994     10 days\n",
       "997    637 days\n",
       "Length: 501, dtype: timedelta64[ns]"
      ]
     },
     "execution_count": 42,
     "metadata": {},
     "output_type": "execute_result"
    }
   ],
   "source": [
    "#subtracting deliverydate series from order date to find the between the two\n",
    "ecommerce['delivery_date'] - ecommerce['order_date'] \n",
    "\n",
    "#we get series of timedelta"
   ]
  },
  {
   "cell_type": "code",
   "execution_count": 45,
   "metadata": {},
   "outputs": [
    {
     "data": {
      "text/html": [
       "<div>\n",
       "<style scoped>\n",
       "    .dataframe tbody tr th:only-of-type {\n",
       "        vertical-align: middle;\n",
       "    }\n",
       "\n",
       "    .dataframe tbody tr th {\n",
       "        vertical-align: top;\n",
       "    }\n",
       "\n",
       "    .dataframe thead th {\n",
       "        text-align: right;\n",
       "    }\n",
       "</style>\n",
       "<table border=\"1\" class=\"dataframe\">\n",
       "  <thead>\n",
       "    <tr style=\"text-align: right;\">\n",
       "      <th></th>\n",
       "      <th>order_date</th>\n",
       "      <th>delivery_date</th>\n",
       "      <th>Delivery time</th>\n",
       "    </tr>\n",
       "    <tr>\n",
       "      <th>ID</th>\n",
       "      <th></th>\n",
       "      <th></th>\n",
       "      <th></th>\n",
       "    </tr>\n",
       "  </thead>\n",
       "  <tbody>\n",
       "    <tr>\n",
       "      <th>1</th>\n",
       "      <td>1998-05-24</td>\n",
       "      <td>1999-02-05</td>\n",
       "      <td>257 days</td>\n",
       "    </tr>\n",
       "    <tr>\n",
       "      <th>2</th>\n",
       "      <td>1992-04-22</td>\n",
       "      <td>1998-03-06</td>\n",
       "      <td>2144 days</td>\n",
       "    </tr>\n",
       "    <tr>\n",
       "      <th>4</th>\n",
       "      <td>1991-02-10</td>\n",
       "      <td>1992-08-26</td>\n",
       "      <td>563 days</td>\n",
       "    </tr>\n",
       "    <tr>\n",
       "      <th>5</th>\n",
       "      <td>1992-07-21</td>\n",
       "      <td>1997-11-20</td>\n",
       "      <td>1948 days</td>\n",
       "    </tr>\n",
       "    <tr>\n",
       "      <th>7</th>\n",
       "      <td>1993-09-02</td>\n",
       "      <td>1998-06-10</td>\n",
       "      <td>1742 days</td>\n",
       "    </tr>\n",
       "    <tr>\n",
       "      <th>...</th>\n",
       "      <td>...</td>\n",
       "      <td>...</td>\n",
       "      <td>...</td>\n",
       "    </tr>\n",
       "    <tr>\n",
       "      <th>990</th>\n",
       "      <td>1991-06-24</td>\n",
       "      <td>1996-02-02</td>\n",
       "      <td>1684 days</td>\n",
       "    </tr>\n",
       "    <tr>\n",
       "      <th>991</th>\n",
       "      <td>1991-09-09</td>\n",
       "      <td>1998-03-30</td>\n",
       "      <td>2394 days</td>\n",
       "    </tr>\n",
       "    <tr>\n",
       "      <th>993</th>\n",
       "      <td>1990-11-16</td>\n",
       "      <td>1998-04-27</td>\n",
       "      <td>2719 days</td>\n",
       "    </tr>\n",
       "    <tr>\n",
       "      <th>994</th>\n",
       "      <td>1993-06-03</td>\n",
       "      <td>1993-06-13</td>\n",
       "      <td>10 days</td>\n",
       "    </tr>\n",
       "    <tr>\n",
       "      <th>997</th>\n",
       "      <td>1990-01-04</td>\n",
       "      <td>1991-10-03</td>\n",
       "      <td>637 days</td>\n",
       "    </tr>\n",
       "  </tbody>\n",
       "</table>\n",
       "<p>501 rows × 3 columns</p>\n",
       "</div>"
      ],
      "text/plain": [
       "    order_date delivery_date Delivery time\n",
       "ID                                        \n",
       "1   1998-05-24    1999-02-05      257 days\n",
       "2   1992-04-22    1998-03-06     2144 days\n",
       "4   1991-02-10    1992-08-26      563 days\n",
       "5   1992-07-21    1997-11-20     1948 days\n",
       "7   1993-09-02    1998-06-10     1742 days\n",
       "..         ...           ...           ...\n",
       "990 1991-06-24    1996-02-02     1684 days\n",
       "991 1991-09-09    1998-03-30     2394 days\n",
       "993 1990-11-16    1998-04-27     2719 days\n",
       "994 1993-06-03    1993-06-13       10 days\n",
       "997 1990-01-04    1991-10-03      637 days\n",
       "\n",
       "[501 rows x 3 columns]"
      ]
     },
     "execution_count": 45,
     "metadata": {},
     "output_type": "execute_result"
    }
   ],
   "source": [
    "#now to add the series to our dataframe\n",
    "ecommerce['Delivery time'] = ecommerce['delivery_date'] - ecommerce['order_date']\n",
    "ecommerce"
   ]
  },
  {
   "cell_type": "code",
   "execution_count": 54,
   "metadata": {},
   "outputs": [
    {
     "data": {
      "text/html": [
       "<div>\n",
       "<style scoped>\n",
       "    .dataframe tbody tr th:only-of-type {\n",
       "        vertical-align: middle;\n",
       "    }\n",
       "\n",
       "    .dataframe tbody tr th {\n",
       "        vertical-align: top;\n",
       "    }\n",
       "\n",
       "    .dataframe thead th {\n",
       "        text-align: right;\n",
       "    }\n",
       "</style>\n",
       "<table border=\"1\" class=\"dataframe\">\n",
       "  <thead>\n",
       "    <tr style=\"text-align: right;\">\n",
       "      <th></th>\n",
       "      <th>order_date</th>\n",
       "      <th>delivery_date</th>\n",
       "      <th>Delivery time</th>\n",
       "      <th>If it took twice as long</th>\n",
       "    </tr>\n",
       "    <tr>\n",
       "      <th>ID</th>\n",
       "      <th></th>\n",
       "      <th></th>\n",
       "      <th></th>\n",
       "      <th></th>\n",
       "    </tr>\n",
       "  </thead>\n",
       "  <tbody>\n",
       "    <tr>\n",
       "      <th>1</th>\n",
       "      <td>1998-05-24</td>\n",
       "      <td>1999-02-05</td>\n",
       "      <td>257 days</td>\n",
       "      <td>1999-10-20</td>\n",
       "    </tr>\n",
       "    <tr>\n",
       "      <th>2</th>\n",
       "      <td>1992-04-22</td>\n",
       "      <td>1998-03-06</td>\n",
       "      <td>2144 days</td>\n",
       "      <td>2004-01-18</td>\n",
       "    </tr>\n",
       "    <tr>\n",
       "      <th>4</th>\n",
       "      <td>1991-02-10</td>\n",
       "      <td>1992-08-26</td>\n",
       "      <td>563 days</td>\n",
       "      <td>1994-03-12</td>\n",
       "    </tr>\n",
       "    <tr>\n",
       "      <th>5</th>\n",
       "      <td>1992-07-21</td>\n",
       "      <td>1997-11-20</td>\n",
       "      <td>1948 days</td>\n",
       "      <td>2003-03-22</td>\n",
       "    </tr>\n",
       "    <tr>\n",
       "      <th>7</th>\n",
       "      <td>1993-09-02</td>\n",
       "      <td>1998-06-10</td>\n",
       "      <td>1742 days</td>\n",
       "      <td>2003-03-18</td>\n",
       "    </tr>\n",
       "  </tbody>\n",
       "</table>\n",
       "</div>"
      ],
      "text/plain": [
       "   order_date delivery_date Delivery time If it took twice as long\n",
       "ID                                                                \n",
       "1  1998-05-24    1999-02-05      257 days               1999-10-20\n",
       "2  1992-04-22    1998-03-06     2144 days               2004-01-18\n",
       "4  1991-02-10    1992-08-26      563 days               1994-03-12\n",
       "5  1992-07-21    1997-11-20     1948 days               2003-03-22\n",
       "7  1993-09-02    1998-06-10     1742 days               2003-03-18"
      ]
     },
     "execution_count": 54,
     "metadata": {},
     "output_type": "execute_result"
    }
   ],
   "source": [
    "ecommerce['If it took twice as long'] = ecommerce['delivery_date']  + ecommerce['Delivery time']   #addind on time duration \n",
    "ecommerce.head()"
   ]
  },
  {
   "cell_type": "code",
   "execution_count": 56,
   "metadata": {},
   "outputs": [
    {
     "data": {
      "text/plain": [
       "Timedelta('8 days 00:00:00')"
      ]
     },
     "execution_count": 56,
     "metadata": {},
     "output_type": "execute_result"
    }
   ],
   "source": [
    "ecommerce['Delivery time'].max()\n",
    "ecommerce['Delivery time'].min()"
   ]
  },
  {
   "cell_type": "code",
   "execution_count": 58,
   "metadata": {},
   "outputs": [
    {
     "data": {
      "text/plain": [
       "Timedelta('1217 days 22:53:53.532934128')"
      ]
     },
     "execution_count": 58,
     "metadata": {},
     "output_type": "execute_result"
    }
   ],
   "source": [
    "#average delivery time\n",
    "ecommerce['Delivery time'].mean()"
   ]
  },
  {
   "cell_type": "code",
   "execution_count": null,
   "metadata": {},
   "outputs": [],
   "source": []
  }
 ],
 "metadata": {
  "anaconda-cloud": {},
  "kernelspec": {
   "display_name": "Python 3 (ipykernel)",
   "language": "python",
   "name": "python3"
  },
  "language_info": {
   "codemirror_mode": {
    "name": "ipython",
    "version": 3
   },
   "file_extension": ".py",
   "mimetype": "text/x-python",
   "name": "python",
   "nbconvert_exporter": "python",
   "pygments_lexer": "ipython3",
   "version": "3.12.0"
  }
 },
 "nbformat": 4,
 "nbformat_minor": 4
}
